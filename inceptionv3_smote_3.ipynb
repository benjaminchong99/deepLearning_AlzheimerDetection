{
 "cells": [
  {
   "cell_type": "code",
   "execution_count": 1,
   "metadata": {
    "scrolled": true
   },
   "outputs": [
    {
     "name": "stdout",
     "output_type": "stream",
     "text": [
      "Requirement already satisfied: matplotlib in c:\\users\\chong\\anaconda3\\lib\\site-packages (3.7.2)\n",
      "Requirement already satisfied: opencv-python in c:\\users\\chong\\anaconda3\\lib\\site-packages (4.9.0.80)\n",
      "Requirement already satisfied: pandas in c:\\users\\chong\\anaconda3\\lib\\site-packages (2.0.3)\n",
      "Requirement already satisfied: numpy in c:\\users\\chong\\anaconda3\\lib\\site-packages (1.26.4)\n",
      "Requirement already satisfied: seaborn in c:\\users\\chong\\anaconda3\\lib\\site-packages (0.12.2)\n",
      "Requirement already satisfied: tqdm in c:\\users\\chong\\anaconda3\\lib\\site-packages (4.65.0)\n",
      "Requirement already satisfied: scikit-learn in c:\\users\\chong\\anaconda3\\lib\\site-packages (1.2.2)\n",
      "Requirement already satisfied: contourpy>=1.0.1 in c:\\users\\chong\\anaconda3\\lib\\site-packages (from matplotlib) (1.0.5)\n",
      "Requirement already satisfied: cycler>=0.10 in c:\\users\\chong\\anaconda3\\lib\\site-packages (from matplotlib) (0.11.0)\n",
      "Requirement already satisfied: fonttools>=4.22.0 in c:\\users\\chong\\anaconda3\\lib\\site-packages (from matplotlib) (4.25.0)\n",
      "Requirement already satisfied: kiwisolver>=1.0.1 in c:\\users\\chong\\anaconda3\\lib\\site-packages (from matplotlib) (1.4.4)\n",
      "Requirement already satisfied: packaging>=20.0 in c:\\users\\chong\\anaconda3\\lib\\site-packages (from matplotlib) (23.2)\n",
      "Requirement already satisfied: pillow>=6.2.0 in c:\\users\\chong\\anaconda3\\lib\\site-packages (from matplotlib) (9.4.0)\n",
      "Requirement already satisfied: pyparsing<3.1,>=2.3.1 in c:\\users\\chong\\anaconda3\\lib\\site-packages (from matplotlib) (3.0.9)\n",
      "Requirement already satisfied: python-dateutil>=2.7 in c:\\users\\chong\\anaconda3\\lib\\site-packages (from matplotlib) (2.8.2)\n",
      "Requirement already satisfied: pytz>=2020.1 in c:\\users\\chong\\anaconda3\\lib\\site-packages (from pandas) (2023.3.post1)\n",
      "Requirement already satisfied: tzdata>=2022.1 in c:\\users\\chong\\anaconda3\\lib\\site-packages (from pandas) (2023.3)\n",
      "Requirement already satisfied: colorama in c:\\users\\chong\\anaconda3\\lib\\site-packages (from tqdm) (0.4.6)\n",
      "Requirement already satisfied: scipy>=1.3.2 in c:\\users\\chong\\anaconda3\\lib\\site-packages (from scikit-learn) (1.11.1)\n",
      "Requirement already satisfied: joblib>=1.1.1 in c:\\users\\chong\\anaconda3\\lib\\site-packages (from scikit-learn) (1.2.0)\n",
      "Requirement already satisfied: threadpoolctl>=2.0.0 in c:\\users\\chong\\anaconda3\\lib\\site-packages (from scikit-learn) (2.2.0)\n",
      "Requirement already satisfied: six>=1.5 in c:\\users\\chong\\anaconda3\\lib\\site-packages (from python-dateutil>=2.7->matplotlib) (1.16.0)\n"
     ]
    }
   ],
   "source": [
    "! pip install matplotlib opencv-python pandas numpy seaborn tqdm scikit-learn"
   ]
  },
  {
   "cell_type": "code",
   "execution_count": 2,
   "metadata": {},
   "outputs": [],
   "source": [
    "import torch\n",
    "import torch.nn as nn\n",
    "import torch.nn.functional as F\n",
    "from torch.utils.data import DataLoader, random_split\n",
    "\n",
    "from torchvision import models\n",
    "import torchvision\n",
    "\n",
    "import numpy as np\n",
    "import matplotlib.pyplot as plt\n"
   ]
  },
  {
   "cell_type": "code",
   "execution_count": 3,
   "metadata": {},
   "outputs": [],
   "source": [
    "# helper function\n",
    "def imshow(img, title):\n",
    "    img = torchvision.utils.make_grid(img, normalize=True)\n",
    "    npimg = img.numpy()\n",
    "    fig = plt.figure(figsize=(5, 15))\n",
    "    plt.imshow(np.transpose(npimg, (1, 2, 0)))\n",
    "    plt.title(title)\n",
    "    plt.axis(\"off\")\n",
    "    plt.show()"
   ]
  },
  {
   "cell_type": "code",
   "execution_count": 4,
   "metadata": {},
   "outputs": [
    {
     "name": "stdout",
     "output_type": "stream",
     "text": [
      "cuda\n"
     ]
    }
   ],
   "source": [
    "device = torch.device(\"cuda\" if torch.cuda.is_available() else \"cpu\")\n",
    "print(device)\n"
   ]
  },
  {
   "cell_type": "markdown",
   "metadata": {},
   "source": [
    "<h1> Prepare Data</h1>"
   ]
  },
  {
   "cell_type": "code",
   "execution_count": 24,
   "metadata": {},
   "outputs": [
    {
     "name": "stderr",
     "output_type": "stream",
     "text": [
      "100%|██████████| 4/4 [00:00<00:00, 157.03it/s]\n"
     ]
    }
   ],
   "source": [
    "from datasetv2 import datasetv3\n",
    "from ad_labels import LABELS_MAP, LABELS_LIST\n",
    "\n",
    "batch_size = 128\n",
    "train_loader, test_loader, train_dataset, test_dataset = datasetv3()"
   ]
  },
  {
   "cell_type": "code",
   "execution_count": 6,
   "metadata": {},
   "outputs": [
    {
     "name": "stderr",
     "output_type": "stream",
     "text": [
      "c:\\Users\\chong\\anaconda3\\Lib\\site-packages\\torchvision\\transforms\\functional.py:1603: UserWarning: The default value of the antialias parameter of all the resizing transforms (Resize(), RandomResizedCrop(), etc.) will change from None to True in v0.17, in order to be consistent across the PIL and Tensor backends. To suppress this warning, directly pass antialias=True (recommended, future default), antialias=None (current default, which means False for Tensors and True for PIL), or antialias=False (only works on Tensors - PIL will still use antialiasing). This also applies if you are using the inference transforms from the models weights: update the call to weights.transforms(antialias=True).\n",
      "  warnings.warn(\n"
     ]
    },
    {
     "name": "stdout",
     "output_type": "stream",
     "text": [
      "<class 'torch.Tensor'>\n",
      "torch.Size([128, 3, 299, 299])\n",
      "torch.Size([128])\n",
      "<class 'torch.utils.data.dataloader.DataLoader'>\n"
     ]
    }
   ],
   "source": [
    "# dataiter = iter(train_loader)\n",
    "for i, (images, labels) in enumerate(train_loader):\n",
    "    break\n",
    "print(type(images))\n",
    "print(images.shape)\n",
    "print(labels.shape)\n",
    "print(type(train_loader))"
   ]
  },
  {
   "cell_type": "markdown",
   "metadata": {},
   "source": [
    "# Inceptionv3"
   ]
  },
  {
   "cell_type": "code",
   "execution_count": 7,
   "metadata": {
    "scrolled": true
   },
   "outputs": [
    {
     "name": "stderr",
     "output_type": "stream",
     "text": [
      "c:\\Users\\chong\\anaconda3\\Lib\\site-packages\\torchvision\\models\\_utils.py:208: UserWarning: The parameter 'pretrained' is deprecated since 0.13 and may be removed in the future, please use 'weights' instead.\n",
      "  warnings.warn(\n",
      "c:\\Users\\chong\\anaconda3\\Lib\\site-packages\\torchvision\\models\\_utils.py:223: UserWarning: Arguments other than a weight enum or `None` for 'weights' are deprecated since 0.13 and may be removed in the future. The current behavior is equivalent to passing `weights=Inception_V3_Weights.IMAGENET1K_V1`. You can also use `weights=Inception_V3_Weights.DEFAULT` to get the most up-to-date weights.\n",
      "  warnings.warn(msg)\n",
      "c:\\Users\\chong\\anaconda3\\Lib\\site-packages\\torchvision\\transforms\\functional.py:1603: UserWarning: The default value of the antialias parameter of all the resizing transforms (Resize(), RandomResizedCrop(), etc.) will change from None to True in v0.17, in order to be consistent across the PIL and Tensor backends. To suppress this warning, directly pass antialias=True (recommended, future default), antialias=None (current default, which means False for Tensors and True for PIL), or antialias=False (only works on Tensors - PIL will still use antialiasing). This also applies if you are using the inference transforms from the models weights: update the call to weights.transforms(antialias=True).\n",
      "  warnings.warn(\n"
     ]
    },
    {
     "name": "stdout",
     "output_type": "stream",
     "text": [
      "Epoch [1/15], lter [5/40] Loss: 1.3706\n",
      "Epoch [1/15], lter [10/40] Loss: 1.3182\n",
      "Epoch [1/15], lter [15/40] Loss: 1.2833\n",
      "Epoch [1/15], lter [20/40] Loss: 1.2500\n",
      "Epoch [1/15], lter [25/40] Loss: 1.1461\n",
      "Epoch [1/15], lter [30/40] Loss: 1.0708\n",
      "Epoch [1/15], lter [35/40] Loss: 1.1283\n",
      "Epoch [1/15], lter [40/40] Loss: 1.0178\n",
      "Epoch 15, Accuracy: 0.59375, Lbl3 Acc: 0.5931612002791347\n"
     ]
    },
    {
     "name": "stderr",
     "output_type": "stream",
     "text": [
      "c:\\Users\\chong\\anaconda3\\Lib\\site-packages\\torchvision\\transforms\\functional.py:1603: UserWarning: The default value of the antialias parameter of all the resizing transforms (Resize(), RandomResizedCrop(), etc.) will change from None to True in v0.17, in order to be consistent across the PIL and Tensor backends. To suppress this warning, directly pass antialias=True (recommended, future default), antialias=None (current default, which means False for Tensors and True for PIL), or antialias=False (only works on Tensors - PIL will still use antialiasing). This also applies if you are using the inference transforms from the models weights: update the call to weights.transforms(antialias=True).\n",
      "  warnings.warn(\n"
     ]
    },
    {
     "name": "stdout",
     "output_type": "stream",
     "text": [
      "Epoch [2/15], lter [5/40] Loss: 1.0448\n",
      "Epoch [2/15], lter [10/40] Loss: 1.0444\n",
      "Epoch [2/15], lter [15/40] Loss: 1.0097\n",
      "Epoch [2/15], lter [20/40] Loss: 0.9749\n",
      "Epoch [2/15], lter [25/40] Loss: 1.0335\n",
      "Epoch [2/15], lter [30/40] Loss: 0.9751\n",
      "Epoch [2/15], lter [35/40] Loss: 1.0191\n",
      "Epoch [2/15], lter [40/40] Loss: 0.9739\n",
      "Epoch 15, Accuracy: 0.6015625, Lbl3 Acc: 0.6931497175141242\n"
     ]
    },
    {
     "name": "stderr",
     "output_type": "stream",
     "text": [
      "c:\\Users\\chong\\anaconda3\\Lib\\site-packages\\torchvision\\transforms\\functional.py:1603: UserWarning: The default value of the antialias parameter of all the resizing transforms (Resize(), RandomResizedCrop(), etc.) will change from None to True in v0.17, in order to be consistent across the PIL and Tensor backends. To suppress this warning, directly pass antialias=True (recommended, future default), antialias=None (current default, which means False for Tensors and True for PIL), or antialias=False (only works on Tensors - PIL will still use antialiasing). This also applies if you are using the inference transforms from the models weights: update the call to weights.transforms(antialias=True).\n",
      "  warnings.warn(\n"
     ]
    },
    {
     "name": "stdout",
     "output_type": "stream",
     "text": [
      "Epoch [3/15], lter [5/40] Loss: 0.9854\n",
      "Epoch [3/15], lter [10/40] Loss: 0.9323\n",
      "Epoch [3/15], lter [15/40] Loss: 0.8877\n",
      "Epoch [3/15], lter [20/40] Loss: 0.8717\n",
      "Epoch [3/15], lter [25/40] Loss: 0.8357\n",
      "Epoch [3/15], lter [30/40] Loss: 0.9712\n",
      "Epoch [3/15], lter [35/40] Loss: 0.8779\n",
      "Epoch [3/15], lter [40/40] Loss: 0.9905\n",
      "Epoch 15, Accuracy: 0.578125, Lbl3 Acc: 0.7487661574618096\n"
     ]
    },
    {
     "name": "stderr",
     "output_type": "stream",
     "text": [
      "c:\\Users\\chong\\anaconda3\\Lib\\site-packages\\torchvision\\transforms\\functional.py:1603: UserWarning: The default value of the antialias parameter of all the resizing transforms (Resize(), RandomResizedCrop(), etc.) will change from None to True in v0.17, in order to be consistent across the PIL and Tensor backends. To suppress this warning, directly pass antialias=True (recommended, future default), antialias=None (current default, which means False for Tensors and True for PIL), or antialias=False (only works on Tensors - PIL will still use antialiasing). This also applies if you are using the inference transforms from the models weights: update the call to weights.transforms(antialias=True).\n",
      "  warnings.warn(\n"
     ]
    },
    {
     "name": "stdout",
     "output_type": "stream",
     "text": [
      "Epoch [4/15], lter [5/40] Loss: 0.8839\n",
      "Epoch [4/15], lter [10/40] Loss: 0.8667\n",
      "Epoch [4/15], lter [15/40] Loss: 0.9411\n",
      "Epoch [4/15], lter [20/40] Loss: 0.9352\n",
      "Epoch [4/15], lter [25/40] Loss: 0.8509\n",
      "Epoch [4/15], lter [30/40] Loss: 0.8657\n",
      "Epoch [4/15], lter [35/40] Loss: 0.7608\n",
      "Epoch [4/15], lter [40/40] Loss: 0.9159\n",
      "Epoch 15, Accuracy: 0.609375, Lbl3 Acc: 0.7775431186202042\n"
     ]
    },
    {
     "name": "stderr",
     "output_type": "stream",
     "text": [
      "c:\\Users\\chong\\anaconda3\\Lib\\site-packages\\torchvision\\transforms\\functional.py:1603: UserWarning: The default value of the antialias parameter of all the resizing transforms (Resize(), RandomResizedCrop(), etc.) will change from None to True in v0.17, in order to be consistent across the PIL and Tensor backends. To suppress this warning, directly pass antialias=True (recommended, future default), antialias=None (current default, which means False for Tensors and True for PIL), or antialias=False (only works on Tensors - PIL will still use antialiasing). This also applies if you are using the inference transforms from the models weights: update the call to weights.transforms(antialias=True).\n",
      "  warnings.warn(\n"
     ]
    },
    {
     "name": "stdout",
     "output_type": "stream",
     "text": [
      "Epoch [5/15], lter [5/40] Loss: 0.8133\n",
      "Epoch [5/15], lter [10/40] Loss: 0.8084\n",
      "Epoch [5/15], lter [15/40] Loss: 0.8271\n",
      "Epoch [5/15], lter [20/40] Loss: 0.8650\n",
      "Epoch [5/15], lter [25/40] Loss: 0.8412\n",
      "Epoch [5/15], lter [30/40] Loss: 0.8746\n",
      "Epoch [5/15], lter [35/40] Loss: 0.8163\n",
      "Epoch [5/15], lter [40/40] Loss: 0.8560\n",
      "Epoch 15, Accuracy: 0.640625, Lbl3 Acc: 0.7955280551258613\n"
     ]
    },
    {
     "name": "stderr",
     "output_type": "stream",
     "text": [
      "c:\\Users\\chong\\anaconda3\\Lib\\site-packages\\torchvision\\transforms\\functional.py:1603: UserWarning: The default value of the antialias parameter of all the resizing transforms (Resize(), RandomResizedCrop(), etc.) will change from None to True in v0.17, in order to be consistent across the PIL and Tensor backends. To suppress this warning, directly pass antialias=True (recommended, future default), antialias=None (current default, which means False for Tensors and True for PIL), or antialias=False (only works on Tensors - PIL will still use antialiasing). This also applies if you are using the inference transforms from the models weights: update the call to weights.transforms(antialias=True).\n",
      "  warnings.warn(\n"
     ]
    },
    {
     "name": "stdout",
     "output_type": "stream",
     "text": [
      "Epoch [6/15], lter [5/40] Loss: 0.7315\n",
      "Epoch [6/15], lter [10/40] Loss: 0.7340\n",
      "Epoch [6/15], lter [15/40] Loss: 0.8614\n",
      "Epoch [6/15], lter [20/40] Loss: 0.8281\n",
      "Epoch [6/15], lter [25/40] Loss: 0.7604\n",
      "Epoch [6/15], lter [30/40] Loss: 0.8331\n",
      "Epoch [6/15], lter [35/40] Loss: 0.7845\n",
      "Epoch [6/15], lter [40/40] Loss: 0.7520\n",
      "Epoch 15, Accuracy: 0.671875, Lbl3 Acc: 0.8107949888771807\n"
     ]
    },
    {
     "name": "stderr",
     "output_type": "stream",
     "text": [
      "c:\\Users\\chong\\anaconda3\\Lib\\site-packages\\torchvision\\transforms\\functional.py:1603: UserWarning: The default value of the antialias parameter of all the resizing transforms (Resize(), RandomResizedCrop(), etc.) will change from None to True in v0.17, in order to be consistent across the PIL and Tensor backends. To suppress this warning, directly pass antialias=True (recommended, future default), antialias=None (current default, which means False for Tensors and True for PIL), or antialias=False (only works on Tensors - PIL will still use antialiasing). This also applies if you are using the inference transforms from the models weights: update the call to weights.transforms(antialias=True).\n",
      "  warnings.warn(\n"
     ]
    },
    {
     "name": "stdout",
     "output_type": "stream",
     "text": [
      "Epoch [7/15], lter [5/40] Loss: 0.8185\n",
      "Epoch [7/15], lter [10/40] Loss: 0.7717\n",
      "Epoch [7/15], lter [15/40] Loss: 0.7582\n",
      "Epoch [7/15], lter [20/40] Loss: 0.7478\n",
      "Epoch [7/15], lter [25/40] Loss: 0.7548\n",
      "Epoch [7/15], lter [30/40] Loss: 0.7291\n",
      "Epoch [7/15], lter [35/40] Loss: 0.8193\n",
      "Epoch [7/15], lter [40/40] Loss: 0.7542\n",
      "Epoch 15, Accuracy: 0.671875, Lbl3 Acc: 0.8223564954682779\n"
     ]
    },
    {
     "name": "stderr",
     "output_type": "stream",
     "text": [
      "c:\\Users\\chong\\anaconda3\\Lib\\site-packages\\torchvision\\transforms\\functional.py:1603: UserWarning: The default value of the antialias parameter of all the resizing transforms (Resize(), RandomResizedCrop(), etc.) will change from None to True in v0.17, in order to be consistent across the PIL and Tensor backends. To suppress this warning, directly pass antialias=True (recommended, future default), antialias=None (current default, which means False for Tensors and True for PIL), or antialias=False (only works on Tensors - PIL will still use antialiasing). This also applies if you are using the inference transforms from the models weights: update the call to weights.transforms(antialias=True).\n",
      "  warnings.warn(\n"
     ]
    },
    {
     "name": "stdout",
     "output_type": "stream",
     "text": [
      "Epoch [8/15], lter [5/40] Loss: 0.7171\n",
      "Epoch [8/15], lter [10/40] Loss: 0.6898\n",
      "Epoch [8/15], lter [15/40] Loss: 0.7785\n",
      "Epoch [8/15], lter [20/40] Loss: 0.7599\n",
      "Epoch [8/15], lter [25/40] Loss: 0.7553\n",
      "Epoch [8/15], lter [30/40] Loss: 0.7788\n",
      "Epoch [8/15], lter [35/40] Loss: 0.7152\n",
      "Epoch [8/15], lter [40/40] Loss: 0.8259\n",
      "Epoch 15, Accuracy: 0.625, Lbl3 Acc: 0.8321425421187263\n"
     ]
    },
    {
     "name": "stderr",
     "output_type": "stream",
     "text": [
      "c:\\Users\\chong\\anaconda3\\Lib\\site-packages\\torchvision\\transforms\\functional.py:1603: UserWarning: The default value of the antialias parameter of all the resizing transforms (Resize(), RandomResizedCrop(), etc.) will change from None to True in v0.17, in order to be consistent across the PIL and Tensor backends. To suppress this warning, directly pass antialias=True (recommended, future default), antialias=None (current default, which means False for Tensors and True for PIL), or antialias=False (only works on Tensors - PIL will still use antialiasing). This also applies if you are using the inference transforms from the models weights: update the call to weights.transforms(antialias=True).\n",
      "  warnings.warn(\n"
     ]
    },
    {
     "name": "stdout",
     "output_type": "stream",
     "text": [
      "Epoch [9/15], lter [5/40] Loss: 0.7734\n",
      "Epoch [9/15], lter [10/40] Loss: 0.7837\n",
      "Epoch [9/15], lter [15/40] Loss: 0.7940\n",
      "Epoch [9/15], lter [20/40] Loss: 0.7263\n",
      "Epoch [9/15], lter [25/40] Loss: 0.6692\n",
      "Epoch [9/15], lter [30/40] Loss: 0.7394\n",
      "Epoch [9/15], lter [35/40] Loss: 0.7518\n",
      "Epoch [9/15], lter [40/40] Loss: 0.7829\n",
      "Epoch 15, Accuracy: 0.6796875, Lbl3 Acc: 0.8391448406437362\n"
     ]
    },
    {
     "name": "stderr",
     "output_type": "stream",
     "text": [
      "c:\\Users\\chong\\anaconda3\\Lib\\site-packages\\torchvision\\transforms\\functional.py:1603: UserWarning: The default value of the antialias parameter of all the resizing transforms (Resize(), RandomResizedCrop(), etc.) will change from None to True in v0.17, in order to be consistent across the PIL and Tensor backends. To suppress this warning, directly pass antialias=True (recommended, future default), antialias=None (current default, which means False for Tensors and True for PIL), or antialias=False (only works on Tensors - PIL will still use antialiasing). This also applies if you are using the inference transforms from the models weights: update the call to weights.transforms(antialias=True).\n",
      "  warnings.warn(\n"
     ]
    },
    {
     "name": "stdout",
     "output_type": "stream",
     "text": [
      "Epoch [10/15], lter [5/40] Loss: 0.7046\n",
      "Epoch [10/15], lter [10/40] Loss: 0.6949\n",
      "Epoch [10/15], lter [15/40] Loss: 0.7700\n",
      "Epoch [10/15], lter [20/40] Loss: 0.7920\n",
      "Epoch [10/15], lter [25/40] Loss: 0.6970\n",
      "Epoch [10/15], lter [30/40] Loss: 0.7569\n",
      "Epoch [10/15], lter [35/40] Loss: 0.8278\n",
      "Epoch [10/15], lter [40/40] Loss: 0.8262\n",
      "Epoch 15, Accuracy: 0.578125, Lbl3 Acc: 0.8458312602174994\n"
     ]
    },
    {
     "name": "stderr",
     "output_type": "stream",
     "text": [
      "c:\\Users\\chong\\anaconda3\\Lib\\site-packages\\torchvision\\transforms\\functional.py:1603: UserWarning: The default value of the antialias parameter of all the resizing transforms (Resize(), RandomResizedCrop(), etc.) will change from None to True in v0.17, in order to be consistent across the PIL and Tensor backends. To suppress this warning, directly pass antialias=True (recommended, future default), antialias=None (current default, which means False for Tensors and True for PIL), or antialias=False (only works on Tensors - PIL will still use antialiasing). This also applies if you are using the inference transforms from the models weights: update the call to weights.transforms(antialias=True).\n",
      "  warnings.warn(\n"
     ]
    },
    {
     "name": "stdout",
     "output_type": "stream",
     "text": [
      "Epoch [11/15], lter [5/40] Loss: 0.7439\n",
      "Epoch [11/15], lter [10/40] Loss: 0.7633\n",
      "Epoch [11/15], lter [15/40] Loss: 0.7744\n",
      "Epoch [11/15], lter [20/40] Loss: 0.8106\n",
      "Epoch [11/15], lter [25/40] Loss: 0.7194\n",
      "Epoch [11/15], lter [30/40] Loss: 0.7300\n",
      "Epoch [11/15], lter [35/40] Loss: 0.7417\n",
      "Epoch [11/15], lter [40/40] Loss: 0.6870\n",
      "Epoch 15, Accuracy: 0.7421875, Lbl3 Acc: 0.8508054040010392\n"
     ]
    },
    {
     "name": "stderr",
     "output_type": "stream",
     "text": [
      "c:\\Users\\chong\\anaconda3\\Lib\\site-packages\\torchvision\\transforms\\functional.py:1603: UserWarning: The default value of the antialias parameter of all the resizing transforms (Resize(), RandomResizedCrop(), etc.) will change from None to True in v0.17, in order to be consistent across the PIL and Tensor backends. To suppress this warning, directly pass antialias=True (recommended, future default), antialias=None (current default, which means False for Tensors and True for PIL), or antialias=False (only works on Tensors - PIL will still use antialiasing). This also applies if you are using the inference transforms from the models weights: update the call to weights.transforms(antialias=True).\n",
      "  warnings.warn(\n"
     ]
    },
    {
     "name": "stdout",
     "output_type": "stream",
     "text": [
      "Epoch [12/15], lter [5/40] Loss: 0.7346\n",
      "Epoch [12/15], lter [10/40] Loss: 0.8009\n",
      "Epoch [12/15], lter [15/40] Loss: 0.8005\n",
      "Epoch [12/15], lter [20/40] Loss: 0.6997\n",
      "Epoch [12/15], lter [25/40] Loss: 0.6973\n",
      "Epoch [12/15], lter [30/40] Loss: 0.7795\n",
      "Epoch [12/15], lter [35/40] Loss: 0.8525\n",
      "Epoch [12/15], lter [40/40] Loss: 0.7545\n",
      "Epoch 15, Accuracy: 0.6953125, Lbl3 Acc: 0.8556308716850993\n"
     ]
    },
    {
     "name": "stderr",
     "output_type": "stream",
     "text": [
      "c:\\Users\\chong\\anaconda3\\Lib\\site-packages\\torchvision\\transforms\\functional.py:1603: UserWarning: The default value of the antialias parameter of all the resizing transforms (Resize(), RandomResizedCrop(), etc.) will change from None to True in v0.17, in order to be consistent across the PIL and Tensor backends. To suppress this warning, directly pass antialias=True (recommended, future default), antialias=None (current default, which means False for Tensors and True for PIL), or antialias=False (only works on Tensors - PIL will still use antialiasing). This also applies if you are using the inference transforms from the models weights: update the call to weights.transforms(antialias=True).\n",
      "  warnings.warn(\n"
     ]
    },
    {
     "name": "stdout",
     "output_type": "stream",
     "text": [
      "Epoch [13/15], lter [5/40] Loss: 0.7203\n",
      "Epoch [13/15], lter [10/40] Loss: 0.6923\n",
      "Epoch [13/15], lter [15/40] Loss: 0.7998\n",
      "Epoch [13/15], lter [20/40] Loss: 0.6604\n",
      "Epoch [13/15], lter [25/40] Loss: 0.7283\n",
      "Epoch [13/15], lter [30/40] Loss: 0.6487\n",
      "Epoch [13/15], lter [35/40] Loss: 0.6589\n",
      "Epoch [13/15], lter [40/40] Loss: 0.7193\n",
      "Epoch 15, Accuracy: 0.703125, Lbl3 Acc: 0.8614030261348006\n"
     ]
    },
    {
     "name": "stderr",
     "output_type": "stream",
     "text": [
      "c:\\Users\\chong\\anaconda3\\Lib\\site-packages\\torchvision\\transforms\\functional.py:1603: UserWarning: The default value of the antialias parameter of all the resizing transforms (Resize(), RandomResizedCrop(), etc.) will change from None to True in v0.17, in order to be consistent across the PIL and Tensor backends. To suppress this warning, directly pass antialias=True (recommended, future default), antialias=None (current default, which means False for Tensors and True for PIL), or antialias=False (only works on Tensors - PIL will still use antialiasing). This also applies if you are using the inference transforms from the models weights: update the call to weights.transforms(antialias=True).\n",
      "  warnings.warn(\n"
     ]
    },
    {
     "name": "stdout",
     "output_type": "stream",
     "text": [
      "Epoch [14/15], lter [5/40] Loss: 0.6385\n",
      "Epoch [14/15], lter [10/40] Loss: 0.6892\n",
      "Epoch [14/15], lter [15/40] Loss: 0.7554\n",
      "Epoch [14/15], lter [20/40] Loss: 0.7145\n",
      "Epoch [14/15], lter [25/40] Loss: 0.6488\n",
      "Epoch [14/15], lter [30/40] Loss: 0.6861\n",
      "Epoch [14/15], lter [35/40] Loss: 0.6999\n",
      "Epoch [14/15], lter [40/40] Loss: 0.7150\n",
      "Epoch 15, Accuracy: 0.71875, Lbl3 Acc: 0.8648910658707077\n"
     ]
    },
    {
     "name": "stderr",
     "output_type": "stream",
     "text": [
      "c:\\Users\\chong\\anaconda3\\Lib\\site-packages\\torchvision\\transforms\\functional.py:1603: UserWarning: The default value of the antialias parameter of all the resizing transforms (Resize(), RandomResizedCrop(), etc.) will change from None to True in v0.17, in order to be consistent across the PIL and Tensor backends. To suppress this warning, directly pass antialias=True (recommended, future default), antialias=None (current default, which means False for Tensors and True for PIL), or antialias=False (only works on Tensors - PIL will still use antialiasing). This also applies if you are using the inference transforms from the models weights: update the call to weights.transforms(antialias=True).\n",
      "  warnings.warn(\n"
     ]
    },
    {
     "name": "stdout",
     "output_type": "stream",
     "text": [
      "Epoch [15/15], lter [5/40] Loss: 0.6787\n",
      "Epoch [15/15], lter [10/40] Loss: 0.7999\n",
      "Epoch [15/15], lter [15/40] Loss: 0.8409\n",
      "Epoch [15/15], lter [20/40] Loss: 0.6004\n",
      "Epoch [15/15], lter [25/40] Loss: 0.8215\n",
      "Epoch [15/15], lter [30/40] Loss: 0.7187\n",
      "Epoch [15/15], lter [35/40] Loss: 0.7792\n",
      "Epoch [15/15], lter [40/40] Loss: 0.7218\n",
      "Epoch 15, Accuracy: 0.6875, Lbl3 Acc: 0.8682689091690955\n",
      "                    precision    recall  f1-score   support\n",
      "\n",
      "      Non_Demented       0.71      0.56      0.63        27\n",
      "Very_Mild_Demented       0.49      0.59      0.53        34\n",
      "     Mild_Demented       0.69      0.63      0.66        38\n",
      " Moderate_Demented       0.94      1.00      0.97        29\n",
      "\n",
      "          accuracy                           0.69       128\n",
      "         macro avg       0.71      0.69      0.70       128\n",
      "      weighted avg       0.70      0.69      0.69       128\n",
      "\n"
     ]
    }
   ],
   "source": [
    "from sklearn.metrics import classification_report, confusion_matrix\n",
    "\n",
    "model = models.inception_v3(pretrained=True)\n",
    "model.aux_logits = False\n",
    "\n",
    "for parameter in model.parameters():\n",
    "    parameter.requires_grad = False\n",
    "\n",
    "# model.fc = nn.Sequential(nn.Linear(model.fc.in_features, 10), nn.Linear(10, 2))\n",
    "model.fc = nn.Sequential(nn.Linear(model.fc.in_features, 4))\n",
    "\n",
    "model = model.to(device)\n",
    "\n",
    "loss = nn.CrossEntropyLoss()\n",
    "optimizer = torch.optim.Adam(\n",
    "    filter(lambda p: p.requires_grad, model.parameters()), lr=1e-3\n",
    ")\n",
    "\n",
    "num_epochs = 15\n",
    "losses = []\n",
    "steppedloss = []\n",
    "class3acclist = []\n",
    "totalacc = []\n",
    "mdtotal = 0\n",
    "mdcorrect = 0\n",
    "\n",
    "for epoch in range(num_epochs):\n",
    "    total_batch = len(train_dataset) // batch_size\n",
    "\n",
    "    for i, (batch_images, batch_labels) in enumerate(train_loader):\n",
    "        X = batch_images.to(device)\n",
    "        Y = batch_labels.to(device)\n",
    "        \n",
    "        pre = model(X)\n",
    "        cost = loss(pre, Y)\n",
    "            \n",
    "        optimizer.zero_grad()\n",
    "        cost.backward()\n",
    "        optimizer.step()\n",
    "\n",
    "        _, predicted = torch.max(pre.data, 1) # get predicted values for error\n",
    "\n",
    "        if (i + 1) % 5 == 0:\n",
    "            losses.append(cost.item())\n",
    "            print(\n",
    "                \"Epoch [%d/%d], lter [%d/%d] Loss: %.4f\"\n",
    "                % (epoch + 1, num_epochs, i + 1, total_batch, cost.item())\n",
    "            )\n",
    "        \n",
    "        mdpreds = torch.FloatTensor([3 if pred == 3 else 4 for pred in predicted])\n",
    "        mdtotal += sum([1 if pred == 3 else 0 for pred in predicted])\n",
    "        mdcorrect += (mdpreds == batch_labels).sum().item()\n",
    "\n",
    "    class3acc = mdcorrect/mdtotal\n",
    "    \n",
    "    class_report = classification_report(batch_labels, predicted.cpu(), target_names=LABELS_LIST, output_dict=True)\n",
    "    print(f\"Epoch {num_epochs}, Accuracy: {class_report['accuracy']}, Lbl3 Acc: {class3acc}\")\n",
    "    \n",
    "    class3acclist.append(class3acc)\n",
    "    steppedloss.append(cost.item())\n",
    "    totalacc.append(class_report['accuracy'])\n",
    "    predicted = predicted.cpu()\n",
    "\n",
    "print(classification_report(batch_labels, predicted.cpu(), target_names=LABELS_LIST))"
   ]
  },
  {
   "cell_type": "code",
   "execution_count": 8,
   "metadata": {},
   "outputs": [
    {
     "data": {
      "image/png": "[encoded data removed]",
      "text/plain": [
       "<Figure size 1500x500 with 2 Axes>"
      ]
     },
     "metadata": {},
     "output_type": "display_data"
    }
   ],
   "source": [
    "# plot losses\n",
    "\n",
    "# Initialize matplotlib\n",
    "fig, axs = plt.subplots(1, 2, figsize = (15, 5))\n",
    "axs[0].plot(list(range(len(steppedloss))), steppedloss)\n",
    "axs[0].set_xlabel(\"Iteration number\")\n",
    "axs[0].set_ylabel(\"Loss\")\n",
    "# axs[1].plot(list(range(len(steppedloss))), steppedloss)\n",
    "# axs[1].set_xlabel(\"Iteration number\")\n",
    "# axs[1].set_ylabel(\"Loss (in logarithmic scale)\")\n",
    "# axs[1].set_yscale(\"log\")\n",
    "\n",
    "axs[1].plot(list(range(len(class3acclist))), class3acclist,'-r', label=\"lbl3_accuracy\")\n",
    "axs[1].plot(list(range(len(totalacc))), totalacc,'-g', label=\"total_accuracy\")\n",
    "axs[1].set_xlabel(\"Iteration number\")\n",
    "axs[1].set_ylabel(\"Accuracy\")\n",
    "\n",
    "# Display\n",
    "plt.show()"
   ]
  },
  {
   "cell_type": "code",
   "execution_count": 9,
   "metadata": {},
   "outputs": [
    {
     "name": "stderr",
     "output_type": "stream",
     "text": [
      "c:\\Users\\chong\\anaconda3\\Lib\\site-packages\\torchvision\\transforms\\functional.py:1603: UserWarning: The default value of the antialias parameter of all the resizing transforms (Resize(), RandomResizedCrop(), etc.) will change from None to True in v0.17, in order to be consistent across the PIL and Tensor backends. To suppress this warning, directly pass antialias=True (recommended, future default), antialias=None (current default, which means False for Tensors and True for PIL), or antialias=False (only works on Tensors - PIL will still use antialiasing). This also applies if you are using the inference transforms from the models weights: update the call to weights.transforms(antialias=True).\n",
      "  warnings.warn(\n"
     ]
    },
    {
     "name": "stdout",
     "output_type": "stream",
     "text": [
      "Epoch 15, Accuracy: 0.625, Lbl3 Acc: 0.8694974494615529\n",
      "                    precision    recall  f1-score   support\n",
      "\n",
      "      Non_Demented       0.83      0.50      0.62        30\n",
      "Very_Mild_Demented       0.48      0.65      0.55        31\n",
      "     Mild_Demented       0.51      0.66      0.57        35\n",
      " Moderate_Demented       0.96      0.69      0.80        32\n",
      "\n",
      "          accuracy                           0.62       128\n",
      "         macro avg       0.69      0.62      0.64       128\n",
      "      weighted avg       0.69      0.62      0.64       128\n",
      "\n"
     ]
    }
   ],
   "source": [
    "# import ad_labels\n",
    "# model = torch.load('inceptionv3v3.pt')\n",
    "\n",
    "model.eval()\n",
    "\n",
    "correct = 0\n",
    "total = 0\n",
    "\n",
    "for images, labels in test_loader:\n",
    "    images = images.to(device)\n",
    "    outputs = model(images)\n",
    "\n",
    "    _, predicted = torch.max(outputs.data, 1)\n",
    "\n",
    "    total += labels.size(0)\n",
    "    correct += (predicted == labels.to(device)).sum()\n",
    "\n",
    "    mdpreds = torch.FloatTensor([3 if pred == 3 else 4 for pred in predicted])\n",
    "    mdtotal += sum([1 if pred == 3 else 0 for pred in predicted])\n",
    "    mdcorrect += (mdpreds == labels).sum().item()\n",
    "\n",
    "class3acc = mdcorrect/mdtotal\n",
    "\n",
    "class_report = classification_report(labels, predicted.cpu(), target_names=LABELS_LIST, output_dict=True)\n",
    "print(f\"Epoch {num_epochs}, Accuracy: {class_report['accuracy']}, Lbl3 Acc: {class3acc}\")\n",
    "\n",
    "class3acclist.append(class3acc)\n",
    "steppedloss.append(cost.item())\n",
    "totalacc.append(class_report['accuracy'])\n",
    "predicted = predicted.cpu()\n",
    "\n",
    "print(classification_report(labels.cpu(), predicted.cpu(), target_names=LABELS_LIST))"
   ]
  },
  {
   "cell_type": "code",
   "execution_count": 10,
   "metadata": {},
   "outputs": [],
   "source": [
    "torch.save(model, 'inceptionv3_standard_0.pt')"
   ]
  },
  {
   "cell_type": "markdown",
   "metadata": {},
   "source": [
    "v1: lr 1e-3, 10, batch_siz = 128 epochs 58.046875 %\n",
    "v2: lr 5e-4, 15, batch_siz = 128 epochs 57.968750 %\n",
    "v3: lr 1e-3, 15, batch_siz = 128 epochs 58.359375 %\n",
    "v4: lr 1e-3, 15, batch_siz = 64 epochs 58.125000 %\n",
    "v5: lr 1e-3, 15, batch_siz = 256 epochs 60.468750 %\n",
    "v6: lr 1e-3, 15, batch_siz = 512 epochs 56.328125 %\n"
   ]
  },
  {
   "cell_type": "markdown",
   "metadata": {},
   "source": [
    "# Inceptionv3 with Batch normalization\n",
    "Attempt to counter overfitting by generalizing the model more."
   ]
  },
  {
   "cell_type": "code",
   "execution_count": 25,
   "metadata": {
    "scrolled": true
   },
   "outputs": [
    {
     "name": "stdout",
     "output_type": "stream",
     "text": [
      "Epoch [1/15], lter [5/40] Loss: 1.3387\n",
      "Epoch [1/15], lter [10/40] Loss: 1.2721\n",
      "Epoch [1/15], lter [15/40] Loss: 1.2118\n",
      "Epoch [1/15], lter [20/40] Loss: 1.1371\n",
      "Epoch [1/15], lter [25/40] Loss: 1.1333\n",
      "Epoch [1/15], lter [30/40] Loss: 1.1386\n",
      "Epoch [1/15], lter [35/40] Loss: 1.0556\n",
      "Epoch [1/15], lter [40/40] Loss: 1.0419\n",
      "Epoch 15, Accuracy: 0.5625, Lbl3 Acc: 0.6791666666666667\n"
     ]
    },
    {
     "name": "stderr",
     "output_type": "stream",
     "text": [
      "c:\\Users\\chong\\anaconda3\\Lib\\site-packages\\torchvision\\transforms\\functional.py:1603: UserWarning: The default value of the antialias parameter of all the resizing transforms (Resize(), RandomResizedCrop(), etc.) will change from None to True in v0.17, in order to be consistent across the PIL and Tensor backends. To suppress this warning, directly pass antialias=True (recommended, future default), antialias=None (current default, which means False for Tensors and True for PIL), or antialias=False (only works on Tensors - PIL will still use antialiasing). This also applies if you are using the inference transforms from the models weights: update the call to weights.transforms(antialias=True).\n",
      "  warnings.warn(\n"
     ]
    },
    {
     "name": "stdout",
     "output_type": "stream",
     "text": [
      "Epoch [2/15], lter [5/40] Loss: 0.9299\n",
      "Epoch [2/15], lter [10/40] Loss: 1.0183\n",
      "Epoch [2/15], lter [15/40] Loss: 1.0292\n",
      "Epoch [2/15], lter [20/40] Loss: 1.0139\n",
      "Epoch [2/15], lter [25/40] Loss: 1.0694\n",
      "Epoch [2/15], lter [30/40] Loss: 0.9762\n",
      "Epoch [2/15], lter [35/40] Loss: 0.9697\n",
      "Epoch [2/15], lter [40/40] Loss: 0.9314\n",
      "Epoch 15, Accuracy: 0.609375, Lbl3 Acc: 0.7410344827586207\n"
     ]
    },
    {
     "name": "stderr",
     "output_type": "stream",
     "text": [
      "c:\\Users\\chong\\anaconda3\\Lib\\site-packages\\torchvision\\transforms\\functional.py:1603: UserWarning: The default value of the antialias parameter of all the resizing transforms (Resize(), RandomResizedCrop(), etc.) will change from None to True in v0.17, in order to be consistent across the PIL and Tensor backends. To suppress this warning, directly pass antialias=True (recommended, future default), antialias=None (current default, which means False for Tensors and True for PIL), or antialias=False (only works on Tensors - PIL will still use antialiasing). This also applies if you are using the inference transforms from the models weights: update the call to weights.transforms(antialias=True).\n",
      "  warnings.warn(\n"
     ]
    },
    {
     "name": "stdout",
     "output_type": "stream",
     "text": [
      "Epoch [3/15], lter [5/40] Loss: 0.8770\n",
      "Epoch [3/15], lter [10/40] Loss: 0.9725\n",
      "Epoch [3/15], lter [15/40] Loss: 0.9178\n",
      "Epoch [3/15], lter [20/40] Loss: 0.9092\n",
      "Epoch [3/15], lter [25/40] Loss: 0.8467\n",
      "Epoch [3/15], lter [30/40] Loss: 0.8327\n",
      "Epoch [3/15], lter [35/40] Loss: 0.9129\n",
      "Epoch [3/15], lter [40/40] Loss: 0.9671\n",
      "Epoch 15, Accuracy: 0.546875, Lbl3 Acc: 0.7801484230055659\n"
     ]
    },
    {
     "name": "stderr",
     "output_type": "stream",
     "text": [
      "c:\\Users\\chong\\anaconda3\\Lib\\site-packages\\torchvision\\transforms\\functional.py:1603: UserWarning: The default value of the antialias parameter of all the resizing transforms (Resize(), RandomResizedCrop(), etc.) will change from None to True in v0.17, in order to be consistent across the PIL and Tensor backends. To suppress this warning, directly pass antialias=True (recommended, future default), antialias=None (current default, which means False for Tensors and True for PIL), or antialias=False (only works on Tensors - PIL will still use antialiasing). This also applies if you are using the inference transforms from the models weights: update the call to weights.transforms(antialias=True).\n",
      "  warnings.warn(\n"
     ]
    },
    {
     "name": "stdout",
     "output_type": "stream",
     "text": [
      "Epoch [4/15], lter [5/40] Loss: 0.9205\n",
      "Epoch [4/15], lter [10/40] Loss: 0.8244\n",
      "Epoch [4/15], lter [15/40] Loss: 0.9444\n",
      "Epoch [4/15], lter [20/40] Loss: 0.9353\n",
      "Epoch [4/15], lter [25/40] Loss: 0.9352\n",
      "Epoch [4/15], lter [30/40] Loss: 0.9149\n",
      "Epoch [4/15], lter [35/40] Loss: 0.9049\n",
      "Epoch [4/15], lter [40/40] Loss: 0.7609\n",
      "Epoch 15, Accuracy: 0.6640625, Lbl3 Acc: 0.7983266515600488\n"
     ]
    },
    {
     "name": "stderr",
     "output_type": "stream",
     "text": [
      "c:\\Users\\chong\\anaconda3\\Lib\\site-packages\\torchvision\\transforms\\functional.py:1603: UserWarning: The default value of the antialias parameter of all the resizing transforms (Resize(), RandomResizedCrop(), etc.) will change from None to True in v0.17, in order to be consistent across the PIL and Tensor backends. To suppress this warning, directly pass antialias=True (recommended, future default), antialias=None (current default, which means False for Tensors and True for PIL), or antialias=False (only works on Tensors - PIL will still use antialiasing). This also applies if you are using the inference transforms from the models weights: update the call to weights.transforms(antialias=True).\n",
      "  warnings.warn(\n"
     ]
    },
    {
     "name": "stdout",
     "output_type": "stream",
     "text": [
      "Epoch [5/15], lter [5/40] Loss: 0.7318\n",
      "Epoch [5/15], lter [10/40] Loss: 0.8086\n",
      "Epoch [5/15], lter [15/40] Loss: 0.8212\n",
      "Epoch [5/15], lter [20/40] Loss: 0.7974\n",
      "Epoch [5/15], lter [25/40] Loss: 0.8867\n",
      "Epoch [5/15], lter [30/40] Loss: 0.8185\n",
      "Epoch [5/15], lter [35/40] Loss: 0.8247\n",
      "Epoch [5/15], lter [40/40] Loss: 0.7972\n",
      "Epoch 15, Accuracy: 0.640625, Lbl3 Acc: 0.8133146461107218\n"
     ]
    },
    {
     "name": "stderr",
     "output_type": "stream",
     "text": [
      "c:\\Users\\chong\\anaconda3\\Lib\\site-packages\\torchvision\\transforms\\functional.py:1603: UserWarning: The default value of the antialias parameter of all the resizing transforms (Resize(), RandomResizedCrop(), etc.) will change from None to True in v0.17, in order to be consistent across the PIL and Tensor backends. To suppress this warning, directly pass antialias=True (recommended, future default), antialias=None (current default, which means False for Tensors and True for PIL), or antialias=False (only works on Tensors - PIL will still use antialiasing). This also applies if you are using the inference transforms from the models weights: update the call to weights.transforms(antialias=True).\n",
      "  warnings.warn(\n"
     ]
    },
    {
     "name": "stdout",
     "output_type": "stream",
     "text": [
      "Epoch [6/15], lter [5/40] Loss: 0.8632\n",
      "Epoch [6/15], lter [10/40] Loss: 0.8617\n",
      "Epoch [6/15], lter [15/40] Loss: 0.8771\n",
      "Epoch [6/15], lter [20/40] Loss: 0.7975\n",
      "Epoch [6/15], lter [25/40] Loss: 0.8179\n",
      "Epoch [6/15], lter [30/40] Loss: 0.8159\n",
      "Epoch [6/15], lter [35/40] Loss: 0.8098\n",
      "Epoch [6/15], lter [40/40] Loss: 0.7239\n",
      "Epoch 15, Accuracy: 0.65625, Lbl3 Acc: 0.8244940683879972\n"
     ]
    },
    {
     "name": "stderr",
     "output_type": "stream",
     "text": [
      "c:\\Users\\chong\\anaconda3\\Lib\\site-packages\\torchvision\\transforms\\functional.py:1603: UserWarning: The default value of the antialias parameter of all the resizing transforms (Resize(), RandomResizedCrop(), etc.) will change from None to True in v0.17, in order to be consistent across the PIL and Tensor backends. To suppress this warning, directly pass antialias=True (recommended, future default), antialias=None (current default, which means False for Tensors and True for PIL), or antialias=False (only works on Tensors - PIL will still use antialiasing). This also applies if you are using the inference transforms from the models weights: update the call to weights.transforms(antialias=True).\n",
      "  warnings.warn(\n"
     ]
    },
    {
     "name": "stdout",
     "output_type": "stream",
     "text": [
      "Epoch [7/15], lter [5/40] Loss: 0.6655\n",
      "Epoch [7/15], lter [10/40] Loss: 0.8352\n",
      "Epoch [7/15], lter [15/40] Loss: 0.7980\n",
      "Epoch [7/15], lter [20/40] Loss: 0.7786\n",
      "Epoch [7/15], lter [25/40] Loss: 0.7838\n",
      "Epoch [7/15], lter [30/40] Loss: 0.7594\n",
      "Epoch [7/15], lter [35/40] Loss: 0.6958\n",
      "Epoch [7/15], lter [40/40] Loss: 0.7432\n",
      "Epoch 15, Accuracy: 0.6875, Lbl3 Acc: 0.8339853545992577\n"
     ]
    },
    {
     "name": "stderr",
     "output_type": "stream",
     "text": [
      "c:\\Users\\chong\\anaconda3\\Lib\\site-packages\\torchvision\\transforms\\functional.py:1603: UserWarning: The default value of the antialias parameter of all the resizing transforms (Resize(), RandomResizedCrop(), etc.) will change from None to True in v0.17, in order to be consistent across the PIL and Tensor backends. To suppress this warning, directly pass antialias=True (recommended, future default), antialias=None (current default, which means False for Tensors and True for PIL), or antialias=False (only works on Tensors - PIL will still use antialiasing). This also applies if you are using the inference transforms from the models weights: update the call to weights.transforms(antialias=True).\n",
      "  warnings.warn(\n"
     ]
    },
    {
     "name": "stdout",
     "output_type": "stream",
     "text": [
      "Epoch [8/15], lter [5/40] Loss: 0.7510\n",
      "Epoch [8/15], lter [10/40] Loss: 0.7711\n",
      "Epoch [8/15], lter [15/40] Loss: 0.7779\n",
      "Epoch [8/15], lter [20/40] Loss: 0.7450\n",
      "Epoch [8/15], lter [25/40] Loss: 0.7725\n",
      "Epoch [8/15], lter [30/40] Loss: 0.7815\n",
      "Epoch [8/15], lter [35/40] Loss: 0.7584\n",
      "Epoch [8/15], lter [40/40] Loss: 0.7354\n",
      "Epoch 15, Accuracy: 0.6796875, Lbl3 Acc: 0.842271848074556\n"
     ]
    },
    {
     "name": "stderr",
     "output_type": "stream",
     "text": [
      "c:\\Users\\chong\\anaconda3\\Lib\\site-packages\\torchvision\\transforms\\functional.py:1603: UserWarning: The default value of the antialias parameter of all the resizing transforms (Resize(), RandomResizedCrop(), etc.) will change from None to True in v0.17, in order to be consistent across the PIL and Tensor backends. To suppress this warning, directly pass antialias=True (recommended, future default), antialias=None (current default, which means False for Tensors and True for PIL), or antialias=False (only works on Tensors - PIL will still use antialiasing). This also applies if you are using the inference transforms from the models weights: update the call to weights.transforms(antialias=True).\n",
      "  warnings.warn(\n"
     ]
    },
    {
     "name": "stdout",
     "output_type": "stream",
     "text": [
      "Epoch [9/15], lter [5/40] Loss: 0.8505\n",
      "Epoch [9/15], lter [10/40] Loss: 0.8535\n",
      "Epoch [9/15], lter [15/40] Loss: 0.7544\n",
      "Epoch [9/15], lter [20/40] Loss: 0.8061\n",
      "Epoch [9/15], lter [25/40] Loss: 0.7564\n",
      "Epoch [9/15], lter [30/40] Loss: 0.8492\n",
      "Epoch [9/15], lter [35/40] Loss: 0.7222\n",
      "Epoch [9/15], lter [40/40] Loss: 0.7246\n",
      "Epoch 15, Accuracy: 0.6640625, Lbl3 Acc: 0.848180677540778\n"
     ]
    },
    {
     "name": "stderr",
     "output_type": "stream",
     "text": [
      "c:\\Users\\chong\\anaconda3\\Lib\\site-packages\\torchvision\\transforms\\functional.py:1603: UserWarning: The default value of the antialias parameter of all the resizing transforms (Resize(), RandomResizedCrop(), etc.) will change from None to True in v0.17, in order to be consistent across the PIL and Tensor backends. To suppress this warning, directly pass antialias=True (recommended, future default), antialias=None (current default, which means False for Tensors and True for PIL), or antialias=False (only works on Tensors - PIL will still use antialiasing). This also applies if you are using the inference transforms from the models weights: update the call to weights.transforms(antialias=True).\n",
      "  warnings.warn(\n"
     ]
    },
    {
     "name": "stdout",
     "output_type": "stream",
     "text": [
      "Epoch [10/15], lter [5/40] Loss: 0.7110\n",
      "Epoch [10/15], lter [10/40] Loss: 0.7200\n",
      "Epoch [10/15], lter [15/40] Loss: 0.7603\n",
      "Epoch [10/15], lter [20/40] Loss: 0.7887\n",
      "Epoch [10/15], lter [25/40] Loss: 0.6878\n",
      "Epoch [10/15], lter [30/40] Loss: 0.7037\n",
      "Epoch [10/15], lter [35/40] Loss: 0.8485\n",
      "Epoch [10/15], lter [40/40] Loss: 0.7877\n",
      "Epoch 15, Accuracy: 0.65625, Lbl3 Acc: 0.8537398085785183\n"
     ]
    },
    {
     "name": "stderr",
     "output_type": "stream",
     "text": [
      "c:\\Users\\chong\\anaconda3\\Lib\\site-packages\\torchvision\\transforms\\functional.py:1603: UserWarning: The default value of the antialias parameter of all the resizing transforms (Resize(), RandomResizedCrop(), etc.) will change from None to True in v0.17, in order to be consistent across the PIL and Tensor backends. To suppress this warning, directly pass antialias=True (recommended, future default), antialias=None (current default, which means False for Tensors and True for PIL), or antialias=False (only works on Tensors - PIL will still use antialiasing). This also applies if you are using the inference transforms from the models weights: update the call to weights.transforms(antialias=True).\n",
      "  warnings.warn(\n"
     ]
    },
    {
     "name": "stdout",
     "output_type": "stream",
     "text": [
      "Epoch [11/15], lter [5/40] Loss: 0.7364\n",
      "Epoch [11/15], lter [10/40] Loss: 0.7685\n",
      "Epoch [11/15], lter [15/40] Loss: 0.7970\n",
      "Epoch [11/15], lter [20/40] Loss: 0.7819\n",
      "Epoch [11/15], lter [25/40] Loss: 0.6633\n",
      "Epoch [11/15], lter [30/40] Loss: 0.8373\n",
      "Epoch [11/15], lter [35/40] Loss: 0.8013\n",
      "Epoch [11/15], lter [40/40] Loss: 0.7580\n",
      "Epoch 15, Accuracy: 0.6640625, Lbl3 Acc: 0.8582152332880347\n"
     ]
    },
    {
     "name": "stderr",
     "output_type": "stream",
     "text": [
      "c:\\Users\\chong\\anaconda3\\Lib\\site-packages\\torchvision\\transforms\\functional.py:1603: UserWarning: The default value of the antialias parameter of all the resizing transforms (Resize(), RandomResizedCrop(), etc.) will change from None to True in v0.17, in order to be consistent across the PIL and Tensor backends. To suppress this warning, directly pass antialias=True (recommended, future default), antialias=None (current default, which means False for Tensors and True for PIL), or antialias=False (only works on Tensors - PIL will still use antialiasing). This also applies if you are using the inference transforms from the models weights: update the call to weights.transforms(antialias=True).\n",
      "  warnings.warn(\n"
     ]
    },
    {
     "name": "stdout",
     "output_type": "stream",
     "text": [
      "Epoch [12/15], lter [5/40] Loss: 0.6691\n",
      "Epoch [12/15], lter [10/40] Loss: 0.7217\n",
      "Epoch [12/15], lter [15/40] Loss: 0.7262\n",
      "Epoch [12/15], lter [20/40] Loss: 0.5991\n",
      "Epoch [12/15], lter [25/40] Loss: 0.7337\n",
      "Epoch [12/15], lter [30/40] Loss: 0.8153\n",
      "Epoch [12/15], lter [35/40] Loss: 0.8092\n",
      "Epoch [12/15], lter [40/40] Loss: 0.6844\n",
      "Epoch 15, Accuracy: 0.7109375, Lbl3 Acc: 0.862538662859862\n"
     ]
    },
    {
     "name": "stderr",
     "output_type": "stream",
     "text": [
      "c:\\Users\\chong\\anaconda3\\Lib\\site-packages\\torchvision\\transforms\\functional.py:1603: UserWarning: The default value of the antialias parameter of all the resizing transforms (Resize(), RandomResizedCrop(), etc.) will change from None to True in v0.17, in order to be consistent across the PIL and Tensor backends. To suppress this warning, directly pass antialias=True (recommended, future default), antialias=None (current default, which means False for Tensors and True for PIL), or antialias=False (only works on Tensors - PIL will still use antialiasing). This also applies if you are using the inference transforms from the models weights: update the call to weights.transforms(antialias=True).\n",
      "  warnings.warn(\n"
     ]
    },
    {
     "name": "stdout",
     "output_type": "stream",
     "text": [
      "Epoch [13/15], lter [5/40] Loss: 0.7299\n",
      "Epoch [13/15], lter [10/40] Loss: 0.6830\n",
      "Epoch [13/15], lter [15/40] Loss: 0.7632\n",
      "Epoch [13/15], lter [20/40] Loss: 0.8152\n",
      "Epoch [13/15], lter [25/40] Loss: 0.7153\n",
      "Epoch [13/15], lter [30/40] Loss: 0.7202\n",
      "Epoch [13/15], lter [35/40] Loss: 0.6622\n",
      "Epoch [13/15], lter [40/40] Loss: 0.8248\n",
      "Epoch 15, Accuracy: 0.5859375, Lbl3 Acc: 0.8668026011242147\n"
     ]
    },
    {
     "name": "stderr",
     "output_type": "stream",
     "text": [
      "c:\\Users\\chong\\anaconda3\\Lib\\site-packages\\torchvision\\transforms\\functional.py:1603: UserWarning: The default value of the antialias parameter of all the resizing transforms (Resize(), RandomResizedCrop(), etc.) will change from None to True in v0.17, in order to be consistent across the PIL and Tensor backends. To suppress this warning, directly pass antialias=True (recommended, future default), antialias=None (current default, which means False for Tensors and True for PIL), or antialias=False (only works on Tensors - PIL will still use antialiasing). This also applies if you are using the inference transforms from the models weights: update the call to weights.transforms(antialias=True).\n",
      "  warnings.warn(\n"
     ]
    },
    {
     "name": "stdout",
     "output_type": "stream",
     "text": [
      "Epoch [14/15], lter [5/40] Loss: 0.6934\n",
      "Epoch [14/15], lter [10/40] Loss: 0.7795\n",
      "Epoch [14/15], lter [15/40] Loss: 0.7383\n",
      "Epoch [14/15], lter [20/40] Loss: 0.8628\n",
      "Epoch [14/15], lter [25/40] Loss: 0.6722\n",
      "Epoch [14/15], lter [30/40] Loss: 0.6338\n",
      "Epoch [14/15], lter [35/40] Loss: 0.7315\n",
      "Epoch [14/15], lter [40/40] Loss: 0.7022\n",
      "Epoch 15, Accuracy: 0.6875, Lbl3 Acc: 0.8702973844500179\n"
     ]
    },
    {
     "name": "stderr",
     "output_type": "stream",
     "text": [
      "c:\\Users\\chong\\anaconda3\\Lib\\site-packages\\torchvision\\transforms\\functional.py:1603: UserWarning: The default value of the antialias parameter of all the resizing transforms (Resize(), RandomResizedCrop(), etc.) will change from None to True in v0.17, in order to be consistent across the PIL and Tensor backends. To suppress this warning, directly pass antialias=True (recommended, future default), antialias=None (current default, which means False for Tensors and True for PIL), or antialias=False (only works on Tensors - PIL will still use antialiasing). This also applies if you are using the inference transforms from the models weights: update the call to weights.transforms(antialias=True).\n",
      "  warnings.warn(\n"
     ]
    },
    {
     "name": "stdout",
     "output_type": "stream",
     "text": [
      "Epoch [15/15], lter [5/40] Loss: 0.6599\n",
      "Epoch [15/15], lter [10/40] Loss: 0.7538\n",
      "Epoch [15/15], lter [15/40] Loss: 0.8700\n",
      "Epoch [15/15], lter [20/40] Loss: 0.6588\n",
      "Epoch [15/15], lter [25/40] Loss: 0.6344\n",
      "Epoch [15/15], lter [30/40] Loss: 0.6921\n",
      "Epoch [15/15], lter [35/40] Loss: 0.6999\n",
      "Epoch [15/15], lter [40/40] Loss: 0.6679\n",
      "Epoch 15, Accuracy: 0.7265625, Lbl3 Acc: 0.8738170347003155\n",
      "                    precision    recall  f1-score   support\n",
      "\n",
      "      Non_Demented       0.85      0.67      0.75        33\n",
      "Very_Mild_Demented       0.66      0.53      0.58        36\n",
      "     Mild_Demented       0.53      0.84      0.65        25\n",
      " Moderate_Demented       0.94      0.91      0.93        34\n",
      "\n",
      "          accuracy                           0.73       128\n",
      "         macro avg       0.74      0.74      0.73       128\n",
      "      weighted avg       0.75      0.73      0.73       128\n",
      "\n"
     ]
    }
   ],
   "source": [
    "from sklearn.metrics import classification_report, confusion_matrix\n",
    "\n",
    "model = models.inception_v3(pretrained=True)\n",
    "model.aux_logits = False\n",
    "\n",
    "for parameter in model.parameters():\n",
    "    parameter.requires_grad = False\n",
    "    \n",
    "for name, module in model.named_children():\n",
    "    if isinstance(module, nn.Conv2d):\n",
    "        # Insert BatchNorm layer after each Conv2d layer\n",
    "        setattr(model, name, nn.Sequential(module, nn.BatchNorm2d(module.out_channels)))\n",
    "\n",
    "\n",
    "\n",
    "# model.fc = nn.Sequential(nn.Linear(model.fc.in_features, 10), nn.Linear(10, 2))\n",
    "model.fc = nn.Sequential(nn.Linear(model.fc.in_features, 4))\n",
    "\n",
    "model = model.to(device)\n",
    "loss = nn.CrossEntropyLoss()\n",
    "optimizer = torch.optim.Adam(\n",
    "    filter(lambda p: p.requires_grad, model.parameters()), lr=1e-3, weight_decay=1e-4\n",
    ")\n",
    "\n",
    "# print(model.eval())\n",
    "num_epochs = 15\n",
    "losses = []\n",
    "steppedloss = []\n",
    "class3acclist = []\n",
    "totalacc = []\n",
    "mdtotal = 0\n",
    "mdcorrect = 0\n",
    "cap = []\n",
    "lowestcost = float('inf')\n",
    "for epoch in range(num_epochs):\n",
    "    total_batch = len(train_dataset) // batch_size\n",
    "\n",
    "    for i, (batch_images, batch_labels) in enumerate(train_loader):\n",
    "        X = batch_images.to(device)\n",
    "        Y = batch_labels.to(device)\n",
    "\n",
    "        pre = model(X)\n",
    "        cost = loss(pre, Y)\n",
    "        optimizer.zero_grad()\n",
    "        cost.backward()\n",
    "        optimizer.step()\n",
    "\n",
    "        _, predicted = torch.max(pre.data, 1) # get predicted values for error\n",
    "\n",
    "        if (i + 1) % 5 == 0:\n",
    "            losses.append(cost.item())\n",
    "            print(\n",
    "                \"Epoch [%d/%d], lter [%d/%d] Loss: %.4f\"\n",
    "                % (epoch + 1, num_epochs, i + 1, total_batch, cost.item())\n",
    "            )\n",
    "        \n",
    "        mdpreds = torch.FloatTensor([3 if pred == 3 else 4 for pred in predicted])\n",
    "        mdtotal += sum([1 if pred == 3 else 0 for pred in predicted])\n",
    "        mdcorrect += (mdpreds == batch_labels).sum().item()\n",
    "\n",
    "    class3acc = mdcorrect/mdtotal\n",
    "    \n",
    "    class_report = classification_report(batch_labels, predicted.cpu(), target_names=LABELS_LIST, output_dict=True)\n",
    "    print(f\"Epoch {num_epochs}, Accuracy: {class_report['accuracy']}, Lbl3 Acc: {class3acc}\")\n",
    "    \n",
    "    class3acclist.append(class3acc)\n",
    "    steppedloss.append(cost.item())\n",
    "    totalacc.append(class_report['accuracy'])\n",
    "    predicted = predicted.cpu()\n",
    "\n",
    "print(classification_report(batch_labels, predicted.cpu(), target_names=LABELS_LIST))\n",
    "\n",
    "# Save the captured output to a text file\n",
    "# with open('inceptionv3batchnormv3.txt', 'w') as file:\n",
    "    # file.write(i for i in stdoutput)\n"
   ]
  },
  {
   "cell_type": "code",
   "execution_count": 26,
   "metadata": {},
   "outputs": [
    {
     "data": {
      "image/png": "[encoded data removed]",
      "text/plain": [
       "<Figure size 1500x500 with 2 Axes>"
      ]
     },
     "metadata": {},
     "output_type": "display_data"
    }
   ],
   "source": [
    "# plot losses\n",
    "\n",
    "# Initialize matplotlib\n",
    "fig, axs = plt.subplots(1, 2, figsize = (15, 5))\n",
    "axs[0].plot(list(range(len(steppedloss))), steppedloss)\n",
    "axs[0].set_xlabel(\"Iteration number\")\n",
    "axs[0].set_ylabel(\"Loss\")\n",
    "# axs[1].plot(list(range(len(steppedloss))), steppedloss)\n",
    "# axs[1].set_xlabel(\"Iteration number\")\n",
    "# axs[1].set_ylabel(\"Loss (in logarithmic scale)\")\n",
    "# axs[1].set_yscale(\"log\")\n",
    "\n",
    "axs[1].plot(list(range(len(class3acclist))), class3acclist,'-r', label=\"lbl3_accuracy\")\n",
    "axs[1].plot(list(range(len(totalacc))), totalacc,'-g', label=\"total_accuracy\")\n",
    "axs[1].set_xlabel(\"Iteration number\")\n",
    "axs[1].set_ylabel(\"Accuracy\")\n",
    "\n",
    "# Display\n",
    "plt.show()"
   ]
  },
  {
   "cell_type": "code",
   "execution_count": 27,
   "metadata": {},
   "outputs": [
    {
     "name": "stderr",
     "output_type": "stream",
     "text": [
      "c:\\Users\\chong\\anaconda3\\Lib\\site-packages\\torchvision\\transforms\\functional.py:1603: UserWarning: The default value of the antialias parameter of all the resizing transforms (Resize(), RandomResizedCrop(), etc.) will change from None to True in v0.17, in order to be consistent across the PIL and Tensor backends. To suppress this warning, directly pass antialias=True (recommended, future default), antialias=None (current default, which means False for Tensors and True for PIL), or antialias=False (only works on Tensors - PIL will still use antialiasing). This also applies if you are using the inference transforms from the models weights: update the call to weights.transforms(antialias=True).\n",
      "  warnings.warn(\n"
     ]
    },
    {
     "name": "stdout",
     "output_type": "stream",
     "text": [
      "Epoch 15, Accuracy: 0.6796875, Lbl3 Acc: 0.8749705007787795\n",
      "                    precision    recall  f1-score   support\n",
      "\n",
      "      Non_Demented       0.28      0.21      0.24        33\n",
      "Very_Mild_Demented       0.26      0.28      0.27        36\n",
      "     Mild_Demented       0.30      0.36      0.33        25\n",
      " Moderate_Demented       0.29      0.29      0.29        34\n",
      "\n",
      "          accuracy                           0.28       128\n",
      "         macro avg       0.28      0.29      0.28       128\n",
      "      weighted avg       0.28      0.28      0.28       128\n",
      "\n"
     ]
    }
   ],
   "source": [
    "# import ad_labels\n",
    "# model = torch.load('inceptionv3v3.pt')\n",
    "\n",
    "model.eval()\n",
    "\n",
    "correct = 0\n",
    "total = 0\n",
    "\n",
    "for images, labels in test_loader:\n",
    "    images = images.to(device)\n",
    "    outputs = model(images)\n",
    "\n",
    "    _, predicted = torch.max(outputs.data, 1)\n",
    "\n",
    "    total += labels.size(0)\n",
    "    correct += (predicted == labels.to(device)).sum()\n",
    "\n",
    "    mdpreds = torch.FloatTensor([3 if pred == 3 else 4 for pred in predicted])\n",
    "    mdtotal += sum([1 if pred == 3 else 0 for pred in predicted])\n",
    "    mdcorrect += (mdpreds == labels).sum().item()\n",
    "\n",
    "class3acc = mdcorrect/mdtotal\n",
    "\n",
    "class_report = classification_report(labels, predicted.cpu(), target_names=LABELS_LIST, output_dict=True)\n",
    "print(f\"Epoch {num_epochs}, Accuracy: {class_report['accuracy']}, Lbl3 Acc: {class3acc}\")\n",
    "\n",
    "class3acclist.append(class3acc)\n",
    "steppedloss.append(cost.item())\n",
    "totalacc.append(class_report['accuracy'])\n",
    "predicted = predicted.cpu()\n",
    "\n",
    "print(classification_report(labels, predicted.cpu(), target_names=LABELS_LIST))"
   ]
  },
  {
   "cell_type": "code",
   "execution_count": 28,
   "metadata": {},
   "outputs": [],
   "source": [
    "torch.save(model, 'inceptionv3_batchnorm_0.pt')"
   ]
  },
  {
   "cell_type": "markdown",
   "metadata": {},
   "source": [
    "# Standard 2 Layer CNN Model \n",
    "Model was still severely overfitting. We decided to decrease the size of the model making it a 2 layer network."
   ]
  },
  {
   "cell_type": "code",
   "execution_count": 29,
   "metadata": {},
   "outputs": [],
   "source": [
    "import torch.optim as optim\n",
    "from datasetv3 import datasetv4\n",
    "\n",
    "def train(model, train_loader, epochs = 10, lr = 0.001):\n",
    "    # Use Adam optimizer to update model weights\n",
    "    optimizer = optim.Adam(model.parameters(), lr = lr)\n",
    "    # Use cross-entropy loss function\n",
    "    criterion = nn.CrossEntropyLoss()\n",
    "    # Performance curves data\n",
    "    train_losses = []\n",
    "    train_accuracies = []\n",
    "\n",
    "    # num_epochs = 15\n",
    "    # steppedloss = []\n",
    "    # totalacc = []\n",
    "    class3acclist = []\n",
    "    mdtotal = 0\n",
    "    mdcorrect = 0\n",
    "    \n",
    "    model = model.to(device)\n",
    "\n",
    "    for epoch in range(epochs):\n",
    "        # Set model to training mode\n",
    "        model.train()\n",
    "        # Initialize epoch loss and accuracy\n",
    "        epoch_loss = 0.0\n",
    "        correct = 0\n",
    "        total = 0\n",
    "        # Iterate over training data\n",
    "        for batch_number, (inputs, labels) in enumerate(train_loader):\n",
    "            # Get from dataloader and send to device\n",
    "            inputs = inputs.to(device)\n",
    "            labels = labels.to(device)\n",
    "            optimizer.zero_grad()\n",
    "            # Compute model output and loss\n",
    "            outputs = model(inputs)\n",
    "            _, predicted = torch.max(outputs.data, 1)\n",
    "            loss = criterion(outputs, labels)\n",
    "            \n",
    "            loss.backward()\n",
    "            optimizer.step()\n",
    "            \n",
    "            epoch_loss += loss.item()\n",
    "            total += labels.size(0)\n",
    "            correct += (predicted == labels).sum().item()\n",
    "\n",
    "            if (batch_number + 1) % 5 == 0:\n",
    "                print(f'Epoch {epoch+1}/{epochs}, Batch number: {batch_number}, Cumulated accuracy: {correct/total}')\n",
    "                \n",
    "            \n",
    "        # Calculate epoch loss and accuracy\n",
    "        epoch_loss /= len(train_loader)\n",
    "        epoch_acc = correct/total\n",
    "        train_losses.append(epoch_loss)\n",
    "        train_accuracies.append(epoch_acc)\n",
    "        print(f'--- Epoch {epoch+1}/{epochs}: Train loss: {epoch_loss:.4f}, Train accuracy: {epoch_acc:.4f}')\n",
    "\n",
    "        # Set model to evaluation mode\n",
    "        model.eval()\n",
    "        # Initialize epoch loss and accuracy\n",
    "        epoch_loss = 0.0\n",
    "        correct = 0\n",
    "        total = 0\n",
    "\n",
    "        mdpreds = torch.FloatTensor([3 if pred == 3 else 4 for pred in predicted]).to(device)\n",
    "        mdtotal += sum([1 if pred == 3 else 0 for pred in predicted])\n",
    "        mdcorrect += (mdpreds == labels).sum().item()\n",
    "    \n",
    "        class3acc = mdcorrect/mdtotal\n",
    "        \n",
    "        # class_report = classification_report(batch_labels, predicted.cpu(), target_names=LABELS_LIST, output_dict=True)\n",
    "        # print(f\"Epoch {num_epochs}, Accuracy: {class_report['accuracy']}, Lbl3 Acc: {class3acc}\")\n",
    "        \n",
    "        class3acclist.append(class3acc)\n",
    "        # steppedloss.append(cost.item())\n",
    "        # totalacc.append(class_report['accuracy'])\n",
    "        predicted = predicted.cpu()\n",
    "            \n",
    "    print(classification_report(labels.cpu(), predicted.cpu(), target_names=LABELS_LIST))\n",
    "    return train_losses, train_accuracies, class3acclist\n"
   ]
  },
  {
   "cell_type": "code",
   "execution_count": 49,
   "metadata": {},
   "outputs": [],
   "source": [
    "# Iterate over test data\n",
    "def test(model, test_loader, epochs = 10, lr = 0.001):\n",
    "    test_losses = []\n",
    "    test_accuracies = []\n",
    "    criterion = nn.CrossEntropyLoss()\n",
    "\n",
    "    # steppedloss = []\n",
    "    # totalacc = []\n",
    "    class3acclist = []\n",
    "    mdtotal = 0\n",
    "    mdcorrect = 0\n",
    "    epoch_loss = 0\n",
    "    total = 0\n",
    "    correct = 0\n",
    "    \n",
    "    \n",
    "    for inputs, labels in test_loader:\n",
    "        # Get from dataloader and send to device\n",
    "        inputs = inputs.to(device)\n",
    "        labels = labels.to(device)\n",
    "        # Compute model output and loss\n",
    "        # (No grad computation here, as it is the test data)\n",
    "        with torch.no_grad():\n",
    "            outputs = model(inputs)\n",
    "            _, predicted = torch.max(outputs.data, 1)\n",
    "            loss = criterion(outputs, labels)\n",
    "        # Accumulate loss and correct predictions for epoch\n",
    "        epoch_loss += loss.item()\n",
    "        total += labels.size(0)\n",
    "        correct += (predicted == labels).sum().item()\n",
    "\n",
    "        mdpreds = torch.FloatTensor([3 if pred == 3 else 4 for pred in predicted]).to(device)\n",
    "        mdtotal += sum([1 if pred == 3 else 0 for pred in predicted])\n",
    "        mdcorrect += (mdpreds == labels).sum().item()\n",
    "    \n",
    "        class3acc = mdcorrect/mdtotal\n",
    "        class3acclist.append(class3acc)\n",
    "        # predicted = predicted.cpu()\n",
    "            \n",
    "        # Calculate epoch loss and accuracy\n",
    "        epoch_loss /= len(test_loader)\n",
    "        epoch_acc = correct/total\n",
    "        test_losses.append(epoch_loss)\n",
    "        test_accuracies.append(epoch_acc)\n",
    "        print(f'--- Epoch {epoch+1}/{epochs}: Test loss: {epoch_loss:.4f}, Test accuracy: {epoch_acc:.4f}')\n",
    "    \n",
    "    print(classification_report(labels.cpu(), predicted.cpu(), target_names=LABELS_LIST))\n",
    "\n",
    "    return test_losses, test_accuracies, class3acclist"
   ]
  },
  {
   "cell_type": "code",
   "execution_count": 38,
   "metadata": {},
   "outputs": [],
   "source": [
    "# standard convolution model\n",
    "class Az_CNN(nn.Module):\n",
    "  def __init__(self):\n",
    "    super(Az_CNN, self).__init__()\n",
    "    # two convolutional layers\n",
    "    self.conv1 = nn.Conv2d(3,32, kernel_size=3, stride=1, padding=1 )\n",
    "    self.conv2 = nn.Conv2d(32,64, kernel_size = 3, stride = 1, padding = 1)\n",
    "\n",
    "    # two fully connected layers\n",
    "    self.fc1 = nn.Linear(28*28*64, 128) # 28*28*3 = 50176 # [128, 224, 224, 3]\n",
    "    self.fc2 = nn.Linear(128, 4)\n",
    "\n",
    "  def forward(self, x):\n",
    "      \n",
    "      x = self.conv1(x)\n",
    "      x = F.relu(x)\n",
    "    \n",
    "      x = self.conv2(x)\n",
    "      x = F.relu(x)\n",
    "\n",
    "      # Flatten output of second conv layer\n",
    "      x = x.view(-1, 28*28*64)\n",
    "      # Pass flattened output through first Linear layer\n",
    "      x = self.fc1(x)\n",
    "      x = F.relu(x)\n",
    "      x = self.fc2(x)\n",
    "      return x\n"
   ]
  },
  {
   "cell_type": "code",
   "execution_count": 65,
   "metadata": {},
   "outputs": [
    {
     "data": {
      "text/plain": [
       "Az_CNN(\n",
       "  (conv1): Conv2d(3, 32, kernel_size=(3, 3), stride=(1, 1), padding=(1, 1))\n",
       "  (conv2): Conv2d(32, 64, kernel_size=(3, 3), stride=(1, 1), padding=(1, 1))\n",
       "  (fc1): Linear(in_features=50176, out_features=128, bias=True)\n",
       "  (fc2): Linear(in_features=128, out_features=4, bias=True)\n",
       ")"
      ]
     },
     "execution_count": 65,
     "metadata": {},
     "output_type": "execute_result"
    }
   ],
   "source": [
    "model = Az_CNN().to(device)\n",
    "model.eval()"
   ]
  },
  {
   "cell_type": "code",
   "execution_count": 66,
   "metadata": {},
   "outputs": [
    {
     "name": "stderr",
     "output_type": "stream",
     "text": [
      "100%|██████████| 4/4 [00:00<00:00, 140.55it/s]\n"
     ]
    }
   ],
   "source": [
    "train_loader, test_loader, train_dataset, test_dataset = datasetv4()"
   ]
  },
  {
   "cell_type": "code",
   "execution_count": 67,
   "metadata": {},
   "outputs": [
    {
     "name": "stderr",
     "output_type": "stream",
     "text": [
      "c:\\Users\\chong\\anaconda3\\Lib\\site-packages\\torchvision\\transforms\\functional.py:1603: UserWarning: The default value of the antialias parameter of all the resizing transforms (Resize(), RandomResizedCrop(), etc.) will change from None to True in v0.17, in order to be consistent across the PIL and Tensor backends. To suppress this warning, directly pass antialias=True (recommended, future default), antialias=None (current default, which means False for Tensors and True for PIL), or antialias=False (only works on Tensors - PIL will still use antialiasing). This also applies if you are using the inference transforms from the models weights: update the call to weights.transforms(antialias=True).\n",
      "  warnings.warn(\n"
     ]
    },
    {
     "name": "stdout",
     "output_type": "stream",
     "text": [
      "Epoch 1/13, Batch number: 4, Cumulated accuracy: 0.2859375\n",
      "Epoch 1/13, Batch number: 9, Cumulated accuracy: 0.28046875\n",
      "Epoch 1/13, Batch number: 14, Cumulated accuracy: 0.2942708333333333\n",
      "Epoch 1/13, Batch number: 19, Cumulated accuracy: 0.327734375\n",
      "Epoch 1/13, Batch number: 24, Cumulated accuracy: 0.36625\n",
      "Epoch 1/13, Batch number: 29, Cumulated accuracy: 0.39427083333333335\n",
      "Epoch 1/13, Batch number: 34, Cumulated accuracy: 0.41875\n",
      "Epoch 1/13, Batch number: 39, Cumulated accuracy: 0.4404296875\n",
      "--- Epoch 1/13: Train loss: 1.4241, Train accuracy: 0.4404\n",
      "Epoch 2/13, Batch number: 4, Cumulated accuracy: 0.59375\n",
      "Epoch 2/13, Batch number: 9, Cumulated accuracy: 0.62421875\n",
      "Epoch 2/13, Batch number: 14, Cumulated accuracy: 0.6359375\n",
      "Epoch 2/13, Batch number: 19, Cumulated accuracy: 0.652734375\n",
      "Epoch 2/13, Batch number: 24, Cumulated accuracy: 0.65375\n",
      "Epoch 2/13, Batch number: 29, Cumulated accuracy: 0.6578125\n",
      "Epoch 2/13, Batch number: 34, Cumulated accuracy: 0.6642857142857143\n",
      "Epoch 2/13, Batch number: 39, Cumulated accuracy: 0.6708984375\n",
      "--- Epoch 2/13: Train loss: 0.7276, Train accuracy: 0.6709\n",
      "Epoch 3/13, Batch number: 4, Cumulated accuracy: 0.7140625\n",
      "Epoch 3/13, Batch number: 9, Cumulated accuracy: 0.715625\n",
      "Epoch 3/13, Batch number: 14, Cumulated accuracy: 0.7276041666666667\n",
      "Epoch 3/13, Batch number: 19, Cumulated accuracy: 0.726171875\n",
      "Epoch 3/13, Batch number: 24, Cumulated accuracy: 0.7284375\n",
      "Epoch 3/13, Batch number: 29, Cumulated accuracy: 0.728125\n",
      "Epoch 3/13, Batch number: 34, Cumulated accuracy: 0.7352678571428571\n",
      "Epoch 3/13, Batch number: 39, Cumulated accuracy: 0.738671875\n",
      "--- Epoch 3/13: Train loss: 0.5921, Train accuracy: 0.7387\n",
      "Epoch 4/13, Batch number: 4, Cumulated accuracy: 0.784375\n",
      "Epoch 4/13, Batch number: 9, Cumulated accuracy: 0.76875\n",
      "Epoch 4/13, Batch number: 14, Cumulated accuracy: 0.7677083333333333\n",
      "Epoch 4/13, Batch number: 19, Cumulated accuracy: 0.76328125\n",
      "Epoch 4/13, Batch number: 24, Cumulated accuracy: 0.7659375\n",
      "Epoch 4/13, Batch number: 29, Cumulated accuracy: 0.7684895833333333\n",
      "Epoch 4/13, Batch number: 34, Cumulated accuracy: 0.775\n",
      "Epoch 4/13, Batch number: 39, Cumulated accuracy: 0.7841796875\n",
      "--- Epoch 4/13: Train loss: 0.5061, Train accuracy: 0.7842\n",
      "Epoch 5/13, Batch number: 4, Cumulated accuracy: 0.8234375\n",
      "Epoch 5/13, Batch number: 9, Cumulated accuracy: 0.81640625\n",
      "Epoch 5/13, Batch number: 14, Cumulated accuracy: 0.8203125\n",
      "Epoch 5/13, Batch number: 19, Cumulated accuracy: 0.816015625\n",
      "Epoch 5/13, Batch number: 24, Cumulated accuracy: 0.8275\n",
      "Epoch 5/13, Batch number: 29, Cumulated accuracy: 0.83125\n",
      "Epoch 5/13, Batch number: 34, Cumulated accuracy: 0.8341517857142857\n",
      "Epoch 5/13, Batch number: 39, Cumulated accuracy: 0.836328125\n",
      "--- Epoch 5/13: Train loss: 0.4133, Train accuracy: 0.8363\n",
      "Epoch 6/13, Batch number: 4, Cumulated accuracy: 0.8640625\n",
      "Epoch 6/13, Batch number: 9, Cumulated accuracy: 0.86484375\n",
      "Epoch 6/13, Batch number: 14, Cumulated accuracy: 0.8697916666666666\n",
      "Epoch 6/13, Batch number: 19, Cumulated accuracy: 0.86875\n",
      "Epoch 6/13, Batch number: 24, Cumulated accuracy: 0.871875\n",
      "Epoch 6/13, Batch number: 29, Cumulated accuracy: 0.8713541666666667\n",
      "Epoch 6/13, Batch number: 34, Cumulated accuracy: 0.8705357142857143\n",
      "Epoch 6/13, Batch number: 39, Cumulated accuracy: 0.871484375\n",
      "--- Epoch 6/13: Train loss: 0.3396, Train accuracy: 0.8715\n",
      "Epoch 7/13, Batch number: 4, Cumulated accuracy: 0.878125\n",
      "Epoch 7/13, Batch number: 9, Cumulated accuracy: 0.8921875\n",
      "Epoch 7/13, Batch number: 14, Cumulated accuracy: 0.8942708333333333\n",
      "Epoch 7/13, Batch number: 19, Cumulated accuracy: 0.898828125\n",
      "Epoch 7/13, Batch number: 24, Cumulated accuracy: 0.9015625\n",
      "Epoch 7/13, Batch number: 29, Cumulated accuracy: 0.9\n",
      "Epoch 7/13, Batch number: 34, Cumulated accuracy: 0.9020089285714286\n",
      "Epoch 7/13, Batch number: 39, Cumulated accuracy: 0.9029296875\n",
      "--- Epoch 7/13: Train loss: 0.2749, Train accuracy: 0.9029\n",
      "Epoch 8/13, Batch number: 4, Cumulated accuracy: 0.934375\n",
      "Epoch 8/13, Batch number: 9, Cumulated accuracy: 0.9359375\n",
      "Epoch 8/13, Batch number: 14, Cumulated accuracy: 0.934375\n",
      "Epoch 8/13, Batch number: 19, Cumulated accuracy: 0.931640625\n",
      "Epoch 8/13, Batch number: 24, Cumulated accuracy: 0.926875\n",
      "Epoch 8/13, Batch number: 29, Cumulated accuracy: 0.92734375\n",
      "Epoch 8/13, Batch number: 34, Cumulated accuracy: 0.93125\n",
      "Epoch 8/13, Batch number: 39, Cumulated accuracy: 0.934375\n",
      "--- Epoch 8/13: Train loss: 0.2014, Train accuracy: 0.9344\n",
      "Epoch 9/13, Batch number: 4, Cumulated accuracy: 0.95\n",
      "Epoch 9/13, Batch number: 9, Cumulated accuracy: 0.946875\n",
      "Epoch 9/13, Batch number: 14, Cumulated accuracy: 0.9520833333333333\n",
      "Epoch 9/13, Batch number: 19, Cumulated accuracy: 0.955078125\n",
      "Epoch 9/13, Batch number: 24, Cumulated accuracy: 0.95625\n",
      "Epoch 9/13, Batch number: 29, Cumulated accuracy: 0.95625\n",
      "Epoch 9/13, Batch number: 34, Cumulated accuracy: 0.9587053571428571\n",
      "Epoch 9/13, Batch number: 39, Cumulated accuracy: 0.9591796875\n",
      "--- Epoch 9/13: Train loss: 0.1443, Train accuracy: 0.9592\n",
      "Epoch 10/13, Batch number: 4, Cumulated accuracy: 0.9640625\n",
      "Epoch 10/13, Batch number: 9, Cumulated accuracy: 0.9671875\n",
      "Epoch 10/13, Batch number: 14, Cumulated accuracy: 0.9609375\n",
      "Epoch 10/13, Batch number: 19, Cumulated accuracy: 0.96015625\n",
      "Epoch 10/13, Batch number: 24, Cumulated accuracy: 0.963125\n",
      "Epoch 10/13, Batch number: 29, Cumulated accuracy: 0.96484375\n",
      "Epoch 10/13, Batch number: 34, Cumulated accuracy: 0.9640625\n",
      "Epoch 10/13, Batch number: 39, Cumulated accuracy: 0.9646484375\n",
      "--- Epoch 10/13: Train loss: 0.1244, Train accuracy: 0.9646\n",
      "Epoch 11/13, Batch number: 4, Cumulated accuracy: 0.96875\n",
      "Epoch 11/13, Batch number: 9, Cumulated accuracy: 0.96953125\n",
      "Epoch 11/13, Batch number: 14, Cumulated accuracy: 0.96875\n",
      "Epoch 11/13, Batch number: 19, Cumulated accuracy: 0.96953125\n",
      "Epoch 11/13, Batch number: 24, Cumulated accuracy: 0.9703125\n",
      "Epoch 11/13, Batch number: 29, Cumulated accuracy: 0.97109375\n",
      "Epoch 11/13, Batch number: 34, Cumulated accuracy: 0.9720982142857143\n",
      "Epoch 11/13, Batch number: 39, Cumulated accuracy: 0.973046875\n",
      "--- Epoch 11/13: Train loss: 0.0920, Train accuracy: 0.9730\n",
      "Epoch 12/13, Batch number: 4, Cumulated accuracy: 0.9671875\n",
      "Epoch 12/13, Batch number: 9, Cumulated accuracy: 0.9703125\n",
      "Epoch 12/13, Batch number: 14, Cumulated accuracy: 0.9723958333333333\n",
      "Epoch 12/13, Batch number: 19, Cumulated accuracy: 0.971875\n",
      "Epoch 12/13, Batch number: 24, Cumulated accuracy: 0.9734375\n",
      "Epoch 12/13, Batch number: 29, Cumulated accuracy: 0.9739583333333334\n",
      "Epoch 12/13, Batch number: 34, Cumulated accuracy: 0.9756696428571429\n",
      "Epoch 12/13, Batch number: 39, Cumulated accuracy: 0.9765625\n",
      "--- Epoch 12/13: Train loss: 0.0765, Train accuracy: 0.9766\n",
      "Epoch 13/13, Batch number: 4, Cumulated accuracy: 0.9890625\n",
      "Epoch 13/13, Batch number: 9, Cumulated accuracy: 0.9890625\n",
      "Epoch 13/13, Batch number: 14, Cumulated accuracy: 0.9864583333333333\n",
      "Epoch 13/13, Batch number: 19, Cumulated accuracy: 0.9859375\n",
      "Epoch 13/13, Batch number: 24, Cumulated accuracy: 0.985625\n",
      "Epoch 13/13, Batch number: 29, Cumulated accuracy: 0.9825520833333333\n",
      "Epoch 13/13, Batch number: 34, Cumulated accuracy: 0.9830357142857142\n",
      "Epoch 13/13, Batch number: 39, Cumulated accuracy: 0.9841796875\n",
      "--- Epoch 13/13: Train loss: 0.0568, Train accuracy: 0.9842\n",
      "                    precision    recall  f1-score   support\n",
      "\n",
      "      Non_Demented       1.00      1.00      1.00        32\n",
      "Very_Mild_Demented       1.00      1.00      1.00        20\n",
      "     Mild_Demented       1.00      1.00      1.00        33\n",
      " Moderate_Demented       1.00      1.00      1.00        43\n",
      "\n",
      "          accuracy                           1.00       128\n",
      "         macro avg       1.00      1.00      1.00       128\n",
      "      weighted avg       1.00      1.00      1.00       128\n",
      "\n"
     ]
    }
   ],
   "source": [
    "train_losses, train_accuracies, class3acclist = train(model, train_loader, epochs = 13, lr = 1e-3)"
   ]
  },
  {
   "cell_type": "code",
   "execution_count": 68,
   "metadata": {},
   "outputs": [
    {
     "name": "stdout",
     "output_type": "stream",
     "text": [
      "0.9977272727272727\n"
     ]
    }
   ],
   "source": [
    "# Label 3 final accuracy\n",
    "print(class3acclist[-1])"
   ]
  },
  {
   "cell_type": "code",
   "execution_count": 69,
   "metadata": {},
   "outputs": [
    {
     "data": {
      "image/png": "[encoded data removed]",
      "text/plain": [
       "<Figure size 1500x500 with 2 Axes>"
      ]
     },
     "metadata": {},
     "output_type": "display_data"
    }
   ],
   "source": [
    "# plot losses\n",
    "\n",
    "# Initialize matplotlib\n",
    "fig, axs = plt.subplots(1, 2, figsize = (15, 5))\n",
    "axs[0].plot(list(range(len(train_losses))), train_losses)\n",
    "axs[0].set_xlabel(\"Iteration number\")\n",
    "axs[0].set_ylabel(\"Loss\")\n",
    "# axs[1].plot(list(range(len(steppedloss))), steppedloss)\n",
    "# axs[1].set_xlabel(\"Iteration number\")\n",
    "# axs[1].set_ylabel(\"Loss (in logarithmic scale)\")\n",
    "# axs[1].set_yscale(\"log\")\n",
    "\n",
    "axs[1].plot(list(range(len(class3acclist))), class3acclist,'-r', label=\"lbl3_accuracy\")\n",
    "axs[1].plot(list(range(len(train_accuracies))), train_accuracies,'-g', label=\"train_accuracies\")\n",
    "axs[1].set_xlabel(\"Iteration number\")\n",
    "axs[1].set_ylabel(\"Accuracy\")\n",
    "\n",
    "# Display\n",
    "plt.show()"
   ]
  },
  {
   "cell_type": "code",
   "execution_count": 70,
   "metadata": {},
   "outputs": [
    {
     "name": "stderr",
     "output_type": "stream",
     "text": [
      "c:\\Users\\chong\\anaconda3\\Lib\\site-packages\\torchvision\\transforms\\functional.py:1603: UserWarning: The default value of the antialias parameter of all the resizing transforms (Resize(), RandomResizedCrop(), etc.) will change from None to True in v0.17, in order to be consistent across the PIL and Tensor backends. To suppress this warning, directly pass antialias=True (recommended, future default), antialias=None (current default, which means False for Tensors and True for PIL), or antialias=False (only works on Tensors - PIL will still use antialiasing). This also applies if you are using the inference transforms from the models weights: update the call to weights.transforms(antialias=True).\n",
      "  warnings.warn(\n"
     ]
    },
    {
     "name": "stdout",
     "output_type": "stream",
     "text": [
      "--- Epoch 15/1: Test loss: 0.0086, Test accuracy: 0.9844\n",
      "--- Epoch 15/1: Test loss: 0.0081, Test accuracy: 0.9805\n",
      "--- Epoch 15/1: Test loss: 0.0218, Test accuracy: 0.9609\n",
      "--- Epoch 15/1: Test loss: 0.0288, Test accuracy: 0.9570\n",
      "--- Epoch 15/1: Test loss: 0.0137, Test accuracy: 0.9578\n",
      "--- Epoch 15/1: Test loss: 0.0180, Test accuracy: 0.9570\n",
      "--- Epoch 15/1: Test loss: 0.0133, Test accuracy: 0.9598\n",
      "--- Epoch 15/1: Test loss: 0.0119, Test accuracy: 0.9580\n",
      "--- Epoch 15/1: Test loss: 0.0104, Test accuracy: 0.9609\n",
      "--- Epoch 15/1: Test loss: 0.0099, Test accuracy: 0.9625\n",
      "                    precision    recall  f1-score   support\n",
      "\n",
      "      Non_Demented       0.96      0.93      0.95        28\n",
      "Very_Mild_Demented       0.95      0.97      0.96        38\n",
      "     Mild_Demented       1.00      1.00      1.00        29\n",
      " Moderate_Demented       1.00      1.00      1.00        33\n",
      "\n",
      "          accuracy                           0.98       128\n",
      "         macro avg       0.98      0.98      0.98       128\n",
      "      weighted avg       0.98      0.98      0.98       128\n",
      "\n"
     ]
    }
   ],
   "source": [
    "test_losses, test_accuracies, class3acclist = test(model, \\\n",
    "                                                                     test_loader, \\\n",
    "                                                                     epochs = 1, \\\n",
    "                                                                     lr = 1e-3)"
   ]
  },
  {
   "cell_type": "code",
   "execution_count": 71,
   "metadata": {},
   "outputs": [],
   "source": [
    "torch.save(model, 'stdCNN.pt')"
   ]
  },
  {
   "cell_type": "code",
   "execution_count": null,
   "metadata": {},
   "outputs": [],
   "source": []
  }
 ],
 "metadata": {
  "kernelspec": {
   "display_name": "Python 3 (ipykernel)",
   "language": "python",
   "name": "python3"
  },
  "language_info": {
   "codemirror_mode": {
    "name": "ipython",
    "version": 3
   },
   "file_extension": ".py",
   "mimetype": "text/x-python",
   "name": "python",
   "nbconvert_exporter": "python",
   "pygments_lexer": "ipython3",
   "version": "3.11.5"
  }
 },
 "nbformat": 4,
 "nbformat_minor": 4
}
