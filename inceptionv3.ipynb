{
 "cells": [
  {
   "cell_type": "code",
   "execution_count": 1,
   "metadata": {},
   "outputs": [],
   "source": [
    "import torch\n",
    "import torch.nn as nn\n",
    "from torch.utils.data import DataLoader, random_split\n",
    "\n",
    "from torchvision import models\n",
    "import torchvision.utils\n",
    "\n",
    "import numpy as np\n",
    "import matplotlib.pyplot as plt\n",
    "\n",
    "%matplotlib inline"
   ]
  },
  {
   "cell_type": "code",
   "execution_count": 2,
   "metadata": {},
   "outputs": [],
   "source": [
    "# helper function\n",
    "def imshow(img, title):\n",
    "    img = torchvision.utils.make_grid(img, normalize=True)\n",
    "    npimg = img.numpy()\n",
    "    fig = plt.figure(figsize=(5, 15))\n",
    "    plt.imshow(np.transpose(npimg, (1, 2, 0)))\n",
    "    plt.title(title)\n",
    "    plt.axis(\"off\")\n",
    "    plt.show()"
   ]
  },
  {
   "cell_type": "code",
   "execution_count": 3,
   "metadata": {},
   "outputs": [
    {
     "name": "stdout",
     "output_type": "stream",
     "text": [
      "mps\n"
     ]
    }
   ],
   "source": [
    "# Use GPU if available, else use CPU\n",
    "# device = torch.device(\"cuda\" if torch.cuda.is_available() else \"cpu\")\n",
    "\n",
    "# Use metal for mac m1\n",
    "# Check that MPS is available\n",
    "if not torch.backends.mps.is_available():\n",
    "    if not torch.backends.mps.is_built():\n",
    "        print(\n",
    "            \"MPS not available because the current PyTorch install was not \"\n",
    "            \"built with MPS enabled.\"\n",
    "        )\n",
    "    else:\n",
    "        print(\n",
    "            \"MPS not available because the current MacOS version is not 12.3+ \"\n",
    "            \"and/or you do not have an MPS-enabled device on this machine.\"\n",
    "        )\n",
    "\n",
    "else:\n",
    "    device = torch.device(\"mps\")\n",
    "    print(device)"
   ]
  },
  {
   "cell_type": "markdown",
   "metadata": {},
   "source": [
    "<h1> Prepare Data</h1>"
   ]
  },
  {
   "cell_type": "code",
   "execution_count": 4,
   "metadata": {},
   "outputs": [
    {
     "name": "stderr",
     "output_type": "stream",
     "text": [
      "100%|██████████| 4/4 [00:00<00:00, 737.17it/s]\n",
      "/Users/yufangoh/Work/deepLearning_AlzheimerDetection/dataset.py:61: FutureWarning: Downcasting behavior in `replace` is deprecated and will be removed in a future version. To retain the old behavior, explicitly call `result.infer_objects(copy=False)`. To opt-in to the future behavior, set `pd.set_option('future.no_silent_downcasting', True)`\n",
      "  df = df.replace({\"label\": ad_labels.LABELS_MAP})\n"
     ]
    }
   ],
   "source": [
    "import dataset\n",
    "\n",
    "# seed rng to reproduce\n",
    "torch.manual_seed(42)\n",
    "batch_size=128\n",
    "\n",
    "dataset = dataset.create_dataset()\n",
    "train_size = int(0.8 * len(dataset))  # 80% of data for training\n",
    "test_size = len(dataset) - train_size  # Remaining 20% for testing\n",
    "\n",
    "train_dataset, test_dataset = random_split(dataset, [train_size, test_size])\n",
    "\n",
    "train_loader = DataLoader(train_dataset, batch_size=batch_size, shuffle=True)\n",
    "test_loader = DataLoader(test_dataset, batch_size=batch_size, shuffle=False)\n",
    "\n",
    "# print(len(dataset))\n",
    "# print(len(train_loader))\n",
    "# for batch_number, (inputs, labels) in enumerate(train_loader):\n",
    "#     print(batch_number, inputs, labels)"
   ]
  },
  {
   "cell_type": "markdown",
   "metadata": {},
   "source": [
    "Use pretrained inception"
   ]
  },
  {
   "cell_type": "code",
   "execution_count": 5,
   "metadata": {},
   "outputs": [
    {
     "name": "stderr",
     "output_type": "stream",
     "text": [
      "/Users/yufangoh/Work/deepLearning_AlzheimerDetection/venv/lib/python3.11/site-packages/torchvision/models/_utils.py:208: UserWarning: The parameter 'pretrained' is deprecated since 0.13 and may be removed in the future, please use 'weights' instead.\n",
      "  warnings.warn(\n",
      "/Users/yufangoh/Work/deepLearning_AlzheimerDetection/venv/lib/python3.11/site-packages/torchvision/models/_utils.py:223: UserWarning: Arguments other than a weight enum or `None` for 'weights' are deprecated since 0.13 and may be removed in the future. The current behavior is equivalent to passing `weights=Inception_V3_Weights.IMAGENET1K_V1`. You can also use `weights=Inception_V3_Weights.DEFAULT` to get the most up-to-date weights.\n",
      "  warnings.warn(msg)\n"
     ]
    },
    {
     "name": "stdout",
     "output_type": "stream",
     "text": [
      "Epoch [1/10], lter [5/40] Loss: 1.0150\n",
      "Epoch [1/10], lter [10/40] Loss: 1.0098\n",
      "Epoch [1/10], lter [15/40] Loss: 1.0294\n",
      "Epoch [1/10], lter [20/40] Loss: 0.9740\n",
      "Epoch [1/10], lter [25/40] Loss: 1.0313\n",
      "Epoch [1/10], lter [30/40] Loss: 0.9281\n",
      "Epoch [1/10], lter [35/40] Loss: 0.9641\n",
      "Epoch [1/10], lter [40/40] Loss: 1.0180\n",
      "Epoch [2/10], lter [5/40] Loss: 1.0530\n",
      "Epoch [2/10], lter [10/40] Loss: 1.0458\n",
      "Epoch [2/10], lter [15/40] Loss: 0.9038\n",
      "Epoch [2/10], lter [20/40] Loss: 1.0314\n",
      "Epoch [2/10], lter [25/40] Loss: 0.9869\n",
      "Epoch [2/10], lter [30/40] Loss: 1.0143\n",
      "Epoch [2/10], lter [35/40] Loss: 0.8336\n",
      "Epoch [2/10], lter [40/40] Loss: 0.8067\n",
      "Epoch [3/10], lter [5/40] Loss: 0.9487\n",
      "Epoch [3/10], lter [10/40] Loss: 0.9945\n",
      "Epoch [3/10], lter [15/40] Loss: 0.8946\n",
      "Epoch [3/10], lter [20/40] Loss: 0.9471\n",
      "Epoch [3/10], lter [25/40] Loss: 0.9219\n",
      "Epoch [3/10], lter [30/40] Loss: 0.9886\n",
      "Epoch [3/10], lter [35/40] Loss: 0.9706\n",
      "Epoch [3/10], lter [40/40] Loss: 0.8935\n",
      "Epoch [4/10], lter [5/40] Loss: 0.9622\n",
      "Epoch [4/10], lter [10/40] Loss: 0.9037\n",
      "Epoch [4/10], lter [15/40] Loss: 0.8962\n",
      "Epoch [4/10], lter [20/40] Loss: 0.9119\n",
      "Epoch [4/10], lter [25/40] Loss: 0.8478\n",
      "Epoch [4/10], lter [30/40] Loss: 0.8334\n",
      "Epoch [4/10], lter [35/40] Loss: 0.9487\n",
      "Epoch [4/10], lter [40/40] Loss: 0.9499\n",
      "Epoch [5/10], lter [5/40] Loss: 0.8701\n",
      "Epoch [5/10], lter [10/40] Loss: 0.9918\n",
      "Epoch [5/10], lter [15/40] Loss: 0.8311\n",
      "Epoch [5/10], lter [20/40] Loss: 0.9192\n",
      "Epoch [5/10], lter [25/40] Loss: 0.7730\n",
      "Epoch [5/10], lter [30/40] Loss: 0.8258\n",
      "Epoch [5/10], lter [35/40] Loss: 0.9730\n",
      "Epoch [5/10], lter [40/40] Loss: 0.8879\n",
      "Epoch [6/10], lter [5/40] Loss: 0.8649\n",
      "Epoch [6/10], lter [10/40] Loss: 0.8445\n",
      "Epoch [6/10], lter [15/40] Loss: 0.9356\n",
      "Epoch [6/10], lter [20/40] Loss: 0.8446\n",
      "Epoch [6/10], lter [25/40] Loss: 0.8396\n",
      "Epoch [6/10], lter [30/40] Loss: 0.8452\n",
      "Epoch [6/10], lter [35/40] Loss: 0.8094\n",
      "Epoch [6/10], lter [40/40] Loss: 0.8500\n",
      "Epoch [7/10], lter [5/40] Loss: 0.8257\n",
      "Epoch [7/10], lter [10/40] Loss: 0.8106\n",
      "Epoch [7/10], lter [15/40] Loss: 0.8039\n",
      "Epoch [7/10], lter [20/40] Loss: 0.9066\n",
      "Epoch [7/10], lter [25/40] Loss: 0.8830\n",
      "Epoch [7/10], lter [30/40] Loss: 0.9761\n",
      "Epoch [7/10], lter [35/40] Loss: 0.8980\n",
      "Epoch [7/10], lter [40/40] Loss: 1.0099\n",
      "Epoch [8/10], lter [5/40] Loss: 0.8302\n",
      "Epoch [8/10], lter [10/40] Loss: 0.8520\n",
      "Epoch [8/10], lter [15/40] Loss: 0.8270\n",
      "Epoch [8/10], lter [20/40] Loss: 0.8918\n",
      "Epoch [8/10], lter [25/40] Loss: 0.8848\n",
      "Epoch [8/10], lter [30/40] Loss: 0.9234\n",
      "Epoch [8/10], lter [35/40] Loss: 0.8578\n",
      "Epoch [8/10], lter [40/40] Loss: 0.8426\n",
      "Epoch [9/10], lter [5/40] Loss: 0.9537\n",
      "Epoch [9/10], lter [10/40] Loss: 0.9251\n",
      "Epoch [9/10], lter [15/40] Loss: 0.7708\n",
      "Epoch [9/10], lter [20/40] Loss: 1.0905\n",
      "Epoch [9/10], lter [25/40] Loss: 0.8357\n",
      "Epoch [9/10], lter [30/40] Loss: 0.8854\n",
      "Epoch [9/10], lter [35/40] Loss: 0.8538\n",
      "Epoch [9/10], lter [40/40] Loss: 0.8275\n",
      "Epoch [10/10], lter [5/40] Loss: 0.9126\n",
      "Epoch [10/10], lter [10/40] Loss: 0.7650\n",
      "Epoch [10/10], lter [15/40] Loss: 0.8529\n",
      "Epoch [10/10], lter [20/40] Loss: 0.7912\n",
      "Epoch [10/10], lter [25/40] Loss: 0.8973\n",
      "Epoch [10/10], lter [30/40] Loss: 0.7924\n",
      "Epoch [10/10], lter [35/40] Loss: 0.8570\n",
      "Epoch [10/10], lter [40/40] Loss: 0.8423\n"
     ]
    }
   ],
   "source": [
    "model = models.inception_v3(pretrained=True)\n",
    "model.aux_logits = False\n",
    "\n",
    "for parameter in model.parameters():\n",
    "    parameter.requires_grad = False\n",
    "\n",
    "# model.fc = nn.Sequential(nn.Linear(model.fc.in_features, 10), nn.Linear(10, 2))\n",
    "model.fc = nn.Sequential(nn.Linear(model.fc.in_features, 4))\n",
    "\n",
    "model = model.to(device)\n",
    "\n",
    "loss = nn.CrossEntropyLoss()\n",
    "optimizer = torch.optim.Adam(\n",
    "    filter(lambda p: p.requires_grad, model.parameters()), lr=0.001\n",
    ")\n",
    "\n",
    "\n",
    "num_epochs = 10\n",
    "\n",
    "for epoch in range(num_epochs):\n",
    "    total_batch = len(train_dataset) // batch_size\n",
    "\n",
    "    for i, (batch_images, batch_labels) in enumerate(train_loader):\n",
    "        X = batch_images.to(device)\n",
    "        Y = batch_labels.to(device)\n",
    "\n",
    "        pre = model(X)\n",
    "        cost = loss(pre, Y)\n",
    "\n",
    "        optimizer.zero_grad()\n",
    "        cost.backward()\n",
    "        optimizer.step()\n",
    "\n",
    "        if (i + 1) % 5 == 0:\n",
    "            print(\n",
    "                \"Epoch [%d/%d], lter [%d/%d] Loss: %.4f\"\n",
    "                % (epoch + 1, num_epochs, i + 1, total_batch, cost.item())\n",
    "            )"
   ]
  },
  {
   "cell_type": "code",
   "execution_count": 7,
   "metadata": {},
   "outputs": [
    {
     "name": "stdout",
     "output_type": "stream",
     "text": [
      "Accuracy of test images: 60.312500 %\n"
     ]
    },
    {
     "ename": "AttributeError",
     "evalue": "'_SingleProcessDataLoaderIter' object has no attribute 'next'",
     "output_type": "error",
     "traceback": [
      "\u001b[0;31m---------------------------------------------------------------------------\u001b[0m",
      "\u001b[0;31mAttributeError\u001b[0m                            Traceback (most recent call last)",
      "Cell \u001b[0;32mIn[7], line 19\u001b[0m\n\u001b[1;32m     15\u001b[0m \u001b[38;5;28mprint\u001b[39m(\u001b[38;5;124m\"\u001b[39m\u001b[38;5;124mAccuracy of test images: \u001b[39m\u001b[38;5;132;01m%f\u001b[39;00m\u001b[38;5;124m \u001b[39m\u001b[38;5;132;01m%%\u001b[39;00m\u001b[38;5;124m\"\u001b[39m \u001b[38;5;241m%\u001b[39m (\u001b[38;5;241m100\u001b[39m \u001b[38;5;241m*\u001b[39m \u001b[38;5;28mfloat\u001b[39m(correct) \u001b[38;5;241m/\u001b[39m total))\n\u001b[1;32m     17\u001b[0m classes \u001b[38;5;241m=\u001b[39m [\u001b[38;5;124m\"\u001b[39m\u001b[38;5;124mSquirrel\u001b[39m\u001b[38;5;124m\"\u001b[39m, \u001b[38;5;124m\"\u001b[39m\u001b[38;5;124mChipmunk\u001b[39m\u001b[38;5;124m\"\u001b[39m]\n\u001b[0;32m---> 19\u001b[0m images, labels \u001b[38;5;241m=\u001b[39m \u001b[38;5;28;43miter\u001b[39;49m\u001b[43m(\u001b[49m\u001b[43mtest_loader\u001b[49m\u001b[43m)\u001b[49m\u001b[38;5;241;43m.\u001b[39;49m\u001b[43mnext\u001b[49m()\n\u001b[1;32m     21\u001b[0m outputs \u001b[38;5;241m=\u001b[39m model(images\u001b[38;5;241m.\u001b[39mto(device))\n\u001b[1;32m     23\u001b[0m _, predicted \u001b[38;5;241m=\u001b[39m torch\u001b[38;5;241m.\u001b[39mmax(outputs\u001b[38;5;241m.\u001b[39mdata, \u001b[38;5;241m1\u001b[39m)\n",
      "\u001b[0;31mAttributeError\u001b[0m: '_SingleProcessDataLoaderIter' object has no attribute 'next'"
     ]
    }
   ],
   "source": [
    "import ad_labels\n",
    "model.eval()\n",
    "\n",
    "correct = 0\n",
    "total = 0\n",
    "\n",
    "for images, labels in test_loader:\n",
    "    images = images.to(device)\n",
    "    outputs = model(images)\n",
    "\n",
    "    _, predicted = torch.max(outputs.data, 1)\n",
    "\n",
    "    total += labels.size(0)\n",
    "    correct += (predicted == labels.to(device)).sum()\n",
    "\n",
    "print(\"Accuracy of test images: %f %%\" % (100 * float(correct) / total))\n",
    "\n",
    "classes = ad_labels.LABELS_LIST\n",
    "\n",
    "images, labels = iter(test_loader).next()\n",
    "\n",
    "outputs = model(images.to(device))\n",
    "\n",
    "_, predicted = torch.max(outputs.data, 1)\n",
    "\n",
    "print(\"Predicted: \", \" \".join(\"%5s\" % classes[predicted[j]] for j in range(5)))\n",
    "\n",
    "title = \" \".join(\"%5s\" % classes[labels[j]] for j in range(5))\n",
    "imshow(torchvision.utils.make_grid(images, normalize=True), title)"
   ]
  },
  {
   "cell_type": "code",
   "execution_count": null,
   "metadata": {},
   "outputs": [],
   "source": []
  }
 ],
 "metadata": {
  "kernelspec": {
   "display_name": "venv",
   "language": "python",
   "name": "python3"
  },
  "language_info": {
   "codemirror_mode": {
    "name": "ipython",
    "version": 3
   },
   "file_extension": ".py",
   "mimetype": "text/x-python",
   "name": "python",
   "nbconvert_exporter": "python",
   "pygments_lexer": "ipython3",
   "version": "3.11.6"
  }
 },
 "nbformat": 4,
 "nbformat_minor": 2
}
