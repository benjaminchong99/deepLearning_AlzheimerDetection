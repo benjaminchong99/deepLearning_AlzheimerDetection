{
 "cells": [
  {
   "cell_type": "code",
   "execution_count": 2,
   "metadata": {},
   "outputs": [],
   "source": [
    "import torch\n",
    "import torch.nn as nn\n",
    "from torch.utils.data import DataLoader, random_split\n",
    "\n",
    "from torchvision import models\n",
    "import torchvision.utils\n",
    "\n",
    "import numpy as np\n",
    "import matplotlib.pyplot as plt\n",
    "\n",
    "%matplotlib inline"
   ]
  },
  {
   "cell_type": "code",
   "execution_count": 3,
   "metadata": {},
   "outputs": [],
   "source": [
    "# helper function\n",
    "def imshow(img, title):\n",
    "    img = torchvision.utils.make_grid(img, normalize=True)\n",
    "    npimg = img.numpy()\n",
    "    fig = plt.figure(figsize=(5, 15))\n",
    "    plt.imshow(np.transpose(npimg, (1, 2, 0)))\n",
    "    plt.title(title)\n",
    "    plt.axis(\"off\")\n",
    "    plt.show()"
   ]
  },
  {
   "cell_type": "code",
   "execution_count": 4,
   "metadata": {},
   "outputs": [
    {
     "name": "stdout",
     "output_type": "stream",
     "text": [
      "mps\n"
     ]
    }
   ],
   "source": [
    "# Use GPU if available, else use CPU\n",
    "# device = torch.device(\"cuda\" if torch.cuda.is_available() else \"cpu\")\n",
    "\n",
    "# Use metal for mac m1\n",
    "# Check that MPS is available\n",
    "if not torch.backends.mps.is_available():\n",
    "    if not torch.backends.mps.is_built():\n",
    "        print(\n",
    "            \"MPS not available because the current PyTorch install was not \"\n",
    "            \"built with MPS enabled.\"\n",
    "        )\n",
    "    else:\n",
    "        print(\n",
    "            \"MPS not available because the current MacOS version is not 12.3+ \"\n",
    "            \"and/or you do not have an MPS-enabled device on this machine.\"\n",
    "        )\n",
    "\n",
    "else:\n",
    "    device = torch.device(\"mps\")\n",
    "    print(device)"
   ]
  },
  {
   "cell_type": "markdown",
   "metadata": {},
   "source": [
    "<h1> Prepare Data</h1>"
   ]
  },
  {
   "cell_type": "code",
   "execution_count": 5,
   "metadata": {},
   "outputs": [
    {
     "name": "stderr",
     "output_type": "stream",
     "text": [
      "100%|██████████| 4/4 [00:00<00:00, 626.97it/s]\n",
      "/Users/yufangoh/Work/deepLearning_AlzheimerDetection/dataset.py:61: FutureWarning: Downcasting behavior in `replace` is deprecated and will be removed in a future version. To retain the old behavior, explicitly call `result.infer_objects(copy=False)`. To opt-in to the future behavior, set `pd.set_option('future.no_silent_downcasting', True)`\n",
      "  df = df.replace({\"label\": ad_labels.LABELS_MAP})\n"
     ]
    }
   ],
   "source": [
    "import dataset\n",
    "\n",
    "# seed rng to reproduce\n",
    "torch.manual_seed(42)\n",
    "batch_size=128\n",
    "\n",
    "dataset = dataset.create_dataset()\n",
    "train_size = int(0.8 * len(dataset))  # 80% of data for training\n",
    "test_size = len(dataset) - train_size  # Remaining 20% for testing\n",
    "\n",
    "train_dataset, test_dataset = random_split(dataset, [train_size, test_size])\n",
    "\n",
    "train_loader = DataLoader(train_dataset, batch_size=batch_size, shuffle=True)\n",
    "test_loader = DataLoader(test_dataset, batch_size=batch_size, shuffle=False)\n",
    "\n",
    "# print(len(dataset))\n",
    "# print(len(train_loader))\n",
    "# for batch_number, (inputs, labels) in enumerate(train_loader):\n",
    "#     print(batch_number, inputs, labels)"
   ]
  },
  {
   "cell_type": "markdown",
   "metadata": {},
   "source": [
    "Use pretrained inception"
   ]
  },
  {
   "cell_type": "code",
   "execution_count": 21,
   "metadata": {},
   "outputs": [
    {
     "name": "stderr",
     "output_type": "stream",
     "text": [
      "/Users/yufangoh/Work/deepLearning_AlzheimerDetection/venv/lib/python3.11/site-packages/torchvision/models/_utils.py:208: UserWarning: The parameter 'pretrained' is deprecated since 0.13 and may be removed in the future, please use 'weights' instead.\n",
      "  warnings.warn(\n",
      "/Users/yufangoh/Work/deepLearning_AlzheimerDetection/venv/lib/python3.11/site-packages/torchvision/models/_utils.py:223: UserWarning: Arguments other than a weight enum or `None` for 'weights' are deprecated since 0.13 and may be removed in the future. The current behavior is equivalent to passing `weights=Inception_V3_Weights.IMAGENET1K_V1`. You can also use `weights=Inception_V3_Weights.DEFAULT` to get the most up-to-date weights.\n",
      "  warnings.warn(msg)\n"
     ]
    },
    {
     "name": "stdout",
     "output_type": "stream",
     "text": [
      "Epoch [1/1], lter [5/40] Loss: 1.049751877784729, Cumulative Accuracy: 0.4421875\n",
      "Epoch [1/1], lter [10/40] Loss: 1.0236310958862305, Cumulative Accuracy: 0.4609375\n",
      "Epoch [1/1], lter [15/40] Loss: 1.0966341495513916, Cumulative Accuracy: 0.46927083333333336\n",
      "Epoch [1/1], lter [20/40] Loss: 0.9865778684616089, Cumulative Accuracy: 0.4859375\n",
      "Epoch [1/1], lter [25/40] Loss: 0.9742691516876221, Cumulative Accuracy: 0.495625\n",
      "Epoch [1/1], lter [30/40] Loss: 0.9739511013031006, Cumulative Accuracy: 0.5005208333333333\n",
      "Epoch [1/1], lter [35/40] Loss: 1.0704333782196045, Cumulative Accuracy: 0.5087053571428571\n",
      "Epoch [1/1], lter [40/40] Loss: 0.9905918836593628, Cumulative Accuracy: 0.510546875\n"
     ]
    }
   ],
   "source": [
    "model = models.inception_v3(pretrained=True)\n",
    "model.aux_logits = False\n",
    "\n",
    "for parameter in model.parameters():\n",
    "    parameter.requires_grad = False\n",
    "\n",
    "# model.fc = nn.Sequential(nn.Linear(model.fc.in_features, 10), nn.Linear(10, 2))\n",
    "model.fc = nn.Sequential(nn.Linear(model.fc.in_features, 4))\n",
    "# model.fc = nn.Sequential(nn.Linear(model.fc.in_features, 4), nn.Softmax(dim=1))\n",
    "\n",
    "model = model.to(device)\n",
    "\n",
    "loss = nn.CrossEntropyLoss()\n",
    "optimizer = torch.optim.Adam(\n",
    "    filter(lambda p: p.requires_grad, model.parameters()), lr=0.001\n",
    ")\n",
    "\n",
    "epoch_loss = 0.0\n",
    "correct = 0\n",
    "total = 0\n",
    "num_epochs = 1\n",
    "\n",
    "# iterate throug epochs\n",
    "for epoch in range(num_epochs):\n",
    "    model.train()\n",
    "    total_batch = len(train_dataset) // batch_size\n",
    "\n",
    "    for i, (batch_images, batch_labels) in enumerate(train_loader):\n",
    "        images = batch_images.to(device)\n",
    "        labels = batch_labels.to(device)\n",
    "\n",
    "        outputs = model(images)\n",
    "        _, predicted = torch.max(outputs.data, 1)\n",
    "        # print(\"predicted\", predicted.shape)\n",
    "        # print(predicted)\n",
    "        # print(\"batch_labels\", batch_labels.shape)\n",
    "        cost = loss(outputs, labels)\n",
    "\n",
    "        correct += (predicted == labels).sum().item()\n",
    "        total += labels.size(0)\n",
    "        optimizer.zero_grad()\n",
    "        cost.backward()\n",
    "        optimizer.step()\n",
    "\n",
    "        if (i + 1) % 5 == 0:\n",
    "            print(\n",
    "                f\"Epoch [{epoch + 1}/{num_epochs}], lter [{i+1}/{total_batch}] Loss: {cost.item()}, Cumulative Accuracy: {correct/total}\"\n",
    "            )"
   ]
  },
  {
   "cell_type": "code",
   "execution_count": 10,
   "metadata": {},
   "outputs": [
    {
     "name": "stdout",
     "output_type": "stream",
     "text": [
      "Accuracy of the model on the test images: 46 %\n",
      "Accuracy of the model on the test images: 50 %\n",
      "Accuracy of the model on the test images: 48 %\n",
      "Accuracy of the model on the test images: 48 %\n",
      "Accuracy of the model on the test images: 49 %\n",
      "Accuracy of the model on the test images: 49 %\n",
      "Accuracy of the model on the test images: 49 %\n",
      "Accuracy of the model on the test images: 50 %\n",
      "Accuracy of the model on the test images: 50 %\n",
      "Accuracy of the model on the test images: 50 %\n",
      "Accuracy of the model on the test images: 50 %\n"
     ]
    }
   ],
   "source": [
    "model.eval()\n",
    "\n",
    "# model.load_state_dict(torch.load('inception_model.pth'))\n",
    "model.eval()\n",
    "correct = 0\n",
    "total = 0\n",
    "\n",
    "for images, labels in test_loader:\n",
    "    images = images.to(device)\n",
    "    labels = labels.to(device)\n",
    "\n",
    "    with torch.no_grad():\n",
    "        outputs = model(images)\n",
    "        _, predicted = torch.max(outputs.data, 1)\n",
    "\n",
    "    total += labels.size(0)\n",
    "    correct += (predicted == labels).sum().item()\n",
    "    accuracy = 100 * correct / total\n",
    "    print(\"Accuracy of the model on the test images: %d %%\" % accuracy)\n",
    "\n",
    "print(\"Accuracy of the model on the test images: %d %%\" % accuracy)"
   ]
  },
  {
   "cell_type": "code",
   "execution_count": null,
   "metadata": {},
   "outputs": [],
   "source": []
  }
 ],
 "metadata": {
  "kernelspec": {
   "display_name": "venv",
   "language": "python",
   "name": "python3"
  },
  "language_info": {
   "codemirror_mode": {
    "name": "ipython",
    "version": 3
   },
   "file_extension": ".py",
   "mimetype": "text/x-python",
   "name": "python",
   "nbconvert_exporter": "python",
   "pygments_lexer": "ipython3",
   "version": "3.11.6"
  }
 },
 "nbformat": 4,
 "nbformat_minor": 2
}
