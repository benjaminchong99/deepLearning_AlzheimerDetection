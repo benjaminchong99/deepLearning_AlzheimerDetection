{
 "cells": [
  {
   "cell_type": "code",
   "execution_count": 1,
   "metadata": {},
   "outputs": [],
   "source": [
    "import torch\n",
    "import torch.nn as nn\n",
    "from torch.utils.data import DataLoader, random_split\n",
    "\n",
    "from torchvision import models\n",
    "import torchvision.utils\n",
    "\n",
    "import numpy as np\n",
    "import matplotlib.pyplot as plt\n",
    "\n",
    "%matplotlib inline"
   ]
  },
  {
   "cell_type": "code",
   "execution_count": 2,
   "metadata": {},
   "outputs": [],
   "source": [
    "# helper function\n",
    "def imshow(img, title):\n",
    "    img = torchvision.utils.make_grid(img, normalize=True)\n",
    "    npimg = img.numpy()\n",
    "    fig = plt.figure(figsize=(5, 15))\n",
    "    plt.imshow(np.transpose(npimg, (1, 2, 0)))\n",
    "    plt.title(title)\n",
    "    plt.axis(\"off\")\n",
    "    plt.show()"
   ]
  },
  {
   "cell_type": "code",
   "execution_count": 3,
   "metadata": {},
   "outputs": [
    {
     "name": "stdout",
     "output_type": "stream",
     "text": [
      "mps\n"
     ]
    }
   ],
   "source": [
    "# Use GPU if available, else use CPU\n",
    "# device = torch.device(\"cuda\" if torch.cuda.is_available() else \"cpu\")\n",
    "\n",
    "# Use metal for mac m1\n",
    "# Check that MPS is available\n",
    "if not torch.backends.mps.is_available():\n",
    "    if not torch.backends.mps.is_built():\n",
    "        print(\n",
    "            \"MPS not available because the current PyTorch install was not \"\n",
    "            \"built with MPS enabled.\"\n",
    "        )\n",
    "    else:\n",
    "        print(\n",
    "            \"MPS not available because the current MacOS version is not 12.3+ \"\n",
    "            \"and/or you do not have an MPS-enabled device on this machine.\"\n",
    "        )\n",
    "\n",
    "else:\n",
    "    device = torch.device(\"mps\")\n",
    "    print(device)"
   ]
  },
  {
   "cell_type": "markdown",
   "metadata": {},
   "source": [
    "<h1> Prepare Data</h1>"
   ]
  },
  {
   "cell_type": "code",
   "execution_count": 4,
   "metadata": {},
   "outputs": [
    {
     "name": "stderr",
     "output_type": "stream",
     "text": [
      "100%|██████████| 4/4 [00:00<00:00, 635.50it/s]\n",
      "/Users/yufangoh/Work/deepLearning_AlzheimerDetection/dataset.py:61: FutureWarning: Downcasting behavior in `replace` is deprecated and will be removed in a future version. To retain the old behavior, explicitly call `result.infer_objects(copy=False)`. To opt-in to the future behavior, set `pd.set_option('future.no_silent_downcasting', True)`\n",
      "  df = df.replace({\"label\": ad_labels.LABELS_MAP})\n"
     ]
    }
   ],
   "source": [
    "import dataset\n",
    "\n",
    "# seed rng to reproduce\n",
    "torch.manual_seed(42)\n",
    "batch_size=128\n",
    "\n",
    "dataset = dataset.create_dataset()\n",
    "train_size = int(0.8 * len(dataset))  # 80% of data for training\n",
    "test_size = len(dataset) - train_size  # Remaining 20% for testing\n",
    "\n",
    "train_dataset, test_dataset = random_split(dataset, [train_size, test_size])\n",
    "\n",
    "train_loader = DataLoader(train_dataset, batch_size=batch_size, shuffle=True)\n",
    "test_loader = DataLoader(test_dataset, batch_size=batch_size, shuffle=False)\n",
    "\n",
    "# print(len(dataset))\n",
    "# print(len(train_loader))\n",
    "# for batch_number, (inputs, labels) in enumerate(train_loader):\n",
    "#     print(batch_number, inputs, labels)"
   ]
  },
  {
   "cell_type": "markdown",
   "metadata": {},
   "source": [
    "Use pretrained inception"
   ]
  },
  {
   "cell_type": "code",
   "execution_count": 5,
   "metadata": {},
   "outputs": [
    {
     "name": "stderr",
     "output_type": "stream",
     "text": [
      "/Users/yufangoh/Work/deepLearning_AlzheimerDetection/venv/lib/python3.11/site-packages/torchvision/models/_utils.py:208: UserWarning: The parameter 'pretrained' is deprecated since 0.13 and may be removed in the future, please use 'weights' instead.\n",
      "  warnings.warn(\n",
      "/Users/yufangoh/Work/deepLearning_AlzheimerDetection/venv/lib/python3.11/site-packages/torchvision/models/_utils.py:223: UserWarning: Arguments other than a weight enum or `None` for 'weights' are deprecated since 0.13 and may be removed in the future. The current behavior is equivalent to passing `weights=Inception_V3_Weights.IMAGENET1K_V1`. You can also use `weights=Inception_V3_Weights.DEFAULT` to get the most up-to-date weights.\n",
      "  warnings.warn(msg)\n"
     ]
    },
    {
     "name": "stdout",
     "output_type": "stream",
     "text": [
      "Epoch [1/5], lter [5/40] Loss: 2.643179178237915, Cumulative Accuracy: 0.3484375\n",
      "Epoch [1/5], lter [10/40] Loss: 2.982750415802002, Cumulative Accuracy: 0.37578125\n",
      "Epoch [1/5], lter [15/40] Loss: 1.6528375148773193, Cumulative Accuracy: 0.39895833333333336\n",
      "Epoch [1/5], lter [20/40] Loss: 1.7381718158721924, Cumulative Accuracy: 0.420703125\n",
      "Epoch [1/5], lter [25/40] Loss: 1.3135392665863037, Cumulative Accuracy: 0.431875\n",
      "Epoch [1/5], lter [30/40] Loss: 0.959505558013916, Cumulative Accuracy: 0.44296875\n",
      "Epoch [1/5], lter [35/40] Loss: 1.3966658115386963, Cumulative Accuracy: 0.45066964285714284\n",
      "Epoch [1/5], lter [40/40] Loss: 1.016635775566101, Cumulative Accuracy: 0.4580078125\n",
      "Epoch [2/5], lter [5/40] Loss: 0.8864609003067017, Cumulative Accuracy: 0.46857638888888886\n",
      "Epoch [2/5], lter [10/40] Loss: 0.9367781281471252, Cumulative Accuracy: 0.475625\n",
      "Epoch [2/5], lter [15/40] Loss: 0.9803450703620911, Cumulative Accuracy: 0.48480113636363636\n",
      "Epoch [2/5], lter [20/40] Loss: 1.0399808883666992, Cumulative Accuracy: 0.48828125\n",
      "Epoch [2/5], lter [25/40] Loss: 0.9103110432624817, Cumulative Accuracy: 0.49254807692307695\n",
      "Epoch [2/5], lter [30/40] Loss: 0.9737943410873413, Cumulative Accuracy: 0.49654017857142857\n",
      "Epoch [2/5], lter [35/40] Loss: 0.7874391674995422, Cumulative Accuracy: 0.5001041666666667\n",
      "Epoch [2/5], lter [40/40] Loss: 1.024451732635498, Cumulative Accuracy: 0.50244140625\n",
      "Epoch [3/5], lter [5/40] Loss: 0.8860129117965698, Cumulative Accuracy: 0.5045036764705882\n",
      "Epoch [3/5], lter [10/40] Loss: 0.9785892367362976, Cumulative Accuracy: 0.5086805555555556\n",
      "Epoch [3/5], lter [15/40] Loss: 0.8620122075080872, Cumulative Accuracy: 0.5134046052631579\n",
      "Epoch [3/5], lter [20/40] Loss: 0.9437624216079712, Cumulative Accuracy: 0.515\n",
      "Epoch [3/5], lter [25/40] Loss: 0.947456955909729, Cumulative Accuracy: 0.5167410714285714\n",
      "Epoch [3/5], lter [30/40] Loss: 0.9089633822441101, Cumulative Accuracy: 0.5184659090909091\n",
      "Epoch [3/5], lter [35/40] Loss: 0.9197669625282288, Cumulative Accuracy: 0.5207880434782609\n",
      "Epoch [3/5], lter [40/40] Loss: 1.0107581615447998, Cumulative Accuracy: 0.5210286458333333\n",
      "Epoch [4/5], lter [5/40] Loss: 0.8606780767440796, Cumulative Accuracy: 0.5233125\n",
      "Epoch [4/5], lter [10/40] Loss: 1.0560542345046997, Cumulative Accuracy: 0.5253605769230769\n",
      "Epoch [4/5], lter [15/40] Loss: 0.953675389289856, Cumulative Accuracy: 0.5265625\n",
      "Epoch [4/5], lter [20/40] Loss: 0.9366334080696106, Cumulative Accuracy: 0.5272879464285715\n",
      "Epoch [4/5], lter [25/40] Loss: 0.9785522222518921, Cumulative Accuracy: 0.5294719827586207\n",
      "Epoch [4/5], lter [30/40] Loss: 1.1174172163009644, Cumulative Accuracy: 0.52984375\n",
      "Epoch [4/5], lter [35/40] Loss: 1.001776933670044, Cumulative Accuracy: 0.530695564516129\n",
      "Epoch [4/5], lter [40/40] Loss: 0.9284501671791077, Cumulative Accuracy: 0.532080078125\n",
      "Epoch [5/5], lter [5/40] Loss: 0.8554381728172302, Cumulative Accuracy: 0.5347537878787879\n",
      "Epoch [5/5], lter [10/40] Loss: 0.8774325251579285, Cumulative Accuracy: 0.5361672794117647\n",
      "Epoch [5/5], lter [15/40] Loss: 0.835570216178894, Cumulative Accuracy: 0.5379464285714286\n",
      "Epoch [5/5], lter [20/40] Loss: 0.9013217687606812, Cumulative Accuracy: 0.5393229166666667\n",
      "Epoch [5/5], lter [25/40] Loss: 1.000828504562378, Cumulative Accuracy: 0.5403293918918919\n",
      "Epoch [5/5], lter [30/40] Loss: 1.0517394542694092, Cumulative Accuracy: 0.5409128289473685\n",
      "Epoch [5/5], lter [35/40] Loss: 1.0399552583694458, Cumulative Accuracy: 0.5417067307692308\n",
      "Epoch [5/5], lter [40/40] Loss: 0.9848598837852478, Cumulative Accuracy: 0.542578125\n"
     ]
    }
   ],
   "source": [
    "model = models.inception_v3(pretrained=True)\n",
    "model.aux_logits = False\n",
    "\n",
    "for parameter in model.parameters():\n",
    "    parameter.requires_grad = False\n",
    "\n",
    "# model.fc = nn.Sequential(nn.Linear(model.fc.in_features, 10), nn.Linear(10, 2))\n",
    "model.fc = nn.Sequential(nn.Linear(model.fc.in_features, 4))\n",
    "# model.fc = nn.Sequential(nn.Linear(model.fc.in_features, 4), nn.Softmax(dim=1))\n",
    "\n",
    "model = model.to(device)\n",
    "\n",
    "loss = nn.CrossEntropyLoss()\n",
    "optimizer = torch.optim.Adam(\n",
    "    filter(lambda p: p.requires_grad, model.parameters()), lr=0.01\n",
    ")\n",
    "\n",
    "epoch_loss = 0.0\n",
    "correct = 0\n",
    "total = 0\n",
    "num_epochs = 5\n",
    "\n",
    "# iterate throug epochs\n",
    "for epoch in range(num_epochs):\n",
    "    model.train()\n",
    "    total_batch = len(train_dataset) // batch_size\n",
    "\n",
    "    for i, (batch_images, batch_labels) in enumerate(train_loader):\n",
    "        images = batch_images.to(device)\n",
    "        labels = batch_labels.to(device)\n",
    "\n",
    "        outputs = model(images)\n",
    "        _, predicted = torch.max(outputs.data, 1)\n",
    "        # print(\"predicted\", predicted.shape)\n",
    "        # print(predicted)\n",
    "        # print(\"batch_labels\", batch_labels.shape)\n",
    "        cost = loss(outputs, labels)\n",
    "\n",
    "        correct += (predicted == labels).sum().item()\n",
    "        total += labels.size(0)\n",
    "        optimizer.zero_grad()\n",
    "        cost.backward()\n",
    "        optimizer.step()\n",
    "\n",
    "        if (i + 1) % 5 == 0:\n",
    "            print(\n",
    "                f\"Epoch [{epoch + 1}/{num_epochs}], lter [{i+1}/{total_batch}] Loss: {cost.item()}, Cumulative Accuracy: {correct/total}\"\n",
    "            )"
   ]
  },
  {
   "cell_type": "code",
   "execution_count": 8,
   "metadata": {},
   "outputs": [
    {
     "name": "stdout",
     "output_type": "stream",
     "text": [
      "Accuracy of the model on the test images: 0.5234375\n",
      "Accuracy of the model on the test images: 0.5625\n",
      "Accuracy of the model on the test images: 0.546875\n",
      "Accuracy of the model on the test images: 0.5546875\n",
      "Accuracy of the model on the test images: 0.5453125\n",
      "Accuracy of the model on the test images: 0.5416666666666666\n",
      "Accuracy of the model on the test images: 0.5513392857142857\n",
      "Accuracy of the model on the test images: 0.55859375\n",
      "Accuracy of the model on the test images: 0.5598958333333334\n",
      "Accuracy of the model on the test images: 0.56484375\n"
     ]
    }
   ],
   "source": [
    "model.eval()\n",
    "\n",
    "# model.load_state_dict(torch.load('inception_model.pth'))\n",
    "epoch_loss = 0.0\n",
    "correct = 0\n",
    "total = 0\n",
    "\n",
    "for images, labels in test_loader:\n",
    "    images = images.to(device)\n",
    "    labels = labels.to(device)\n",
    "\n",
    "    with torch.no_grad():\n",
    "        outputs = model(images)\n",
    "        _, predicted = torch.max(outputs.data, 1)\n",
    "\n",
    "    total += labels.size(0)\n",
    "    correct += (predicted == labels).sum().item()\n",
    "    epoch_loss += loss(outputs, labels).item()\n",
    "    accuracy = correct / total\n",
    "    print(f\"Accuracy of the model on the test images: {accuracy}\")\n",
    "# print(\"Accuracy of the model on the test images: %d %%\" % accuracy)"
   ]
  },
  {
   "cell_type": "code",
   "execution_count": null,
   "metadata": {},
   "outputs": [],
   "source": []
  }
 ],
 "metadata": {
  "kernelspec": {
   "display_name": "venv",
   "language": "python",
   "name": "python3"
  },
  "language_info": {
   "codemirror_mode": {
    "name": "ipython",
    "version": 3
   },
   "file_extension": ".py",
   "mimetype": "text/x-python",
   "name": "python",
   "nbconvert_exporter": "python",
   "pygments_lexer": "ipython3",
   "version": "3.11.6"
  }
 },
 "nbformat": 4,
 "nbformat_minor": 2
}
